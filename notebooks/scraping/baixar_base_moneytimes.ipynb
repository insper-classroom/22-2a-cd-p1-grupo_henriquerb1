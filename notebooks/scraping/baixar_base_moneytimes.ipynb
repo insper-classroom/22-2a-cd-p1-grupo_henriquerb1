{
 "cells": [
  {
   "cell_type": "markdown",
   "id": "890a334b",
   "metadata": {},
   "source": [
    "___\n",
    "# Insper - Ciência dos Dados - Projeto 1\n",
    "\n",
    "# Obtenção das notícias\n",
    "\n",
    "Utilize este notebook para **baixar notícias** sobre algum assunto de seu interesse.\n",
    "\n",
    "As notícias serão automaticamente baixadas do site https://www.moneytimes.com.br/ utilizando o termo de busca informado por você!\n",
    "\n",
    "Será gerado um arquivo `dados.xlsx` contendo as informações disponíveis para o projeto.\n",
    "\n",
    "## Preparação do ambiente no jupyter\n",
    "\n",
    "Vamos importar algumas bibliotecas e definir algumas funções úteis!"
   ]
  },
  {
   "cell_type": "code",
   "execution_count": 6,
   "id": "5f3e4318",
   "metadata": {},
   "outputs": [],
   "source": [
    "import random\n",
    "import time\n",
    "import requests\n",
    "import bs4\n",
    "import openpyxl\n",
    "from bs4 import BeautifulSoup\n",
    "import pandas as pd\n",
    "import os.path\n",
    "from math import floor\n",
    "\n",
    "from ipywidgets import IntProgress\n",
    "from IPython.display import display"
   ]
  },
  {
   "cell_type": "code",
   "execution_count": 38,
   "id": "277c5131",
   "metadata": {},
   "outputs": [
    {
     "name": "stdout",
     "output_type": "stream",
     "text": [
      "Collecting openpyxl\n",
      "  Downloading openpyxl-3.0.10-py2.py3-none-any.whl (242 kB)\n",
      "     -------------------------------------- 242.1/242.1 KB 3.7 MB/s eta 0:00:00\n",
      "Collecting et-xmlfile\n",
      "  Downloading et_xmlfile-1.1.0-py3-none-any.whl (4.7 kB)\n",
      "Installing collected packages: et-xmlfile, openpyxl\n",
      "Successfully installed et-xmlfile-1.1.0 openpyxl-3.0.10\n"
     ]
    },
    {
     "name": "stderr",
     "output_type": "stream",
     "text": [
      "WARNING: You are using pip version 22.0.4; however, version 22.2.2 is available.\n",
      "You should consider upgrading via the 'C:\\Users\\nicom\\AppData\\Local\\Microsoft\\WindowsApps\\PythonSoftwareFoundation.Python.3.9_qbz5n2kfra8p0\\python.exe -m pip install --upgrade pip' command.\n"
     ]
    }
   ],
   "source": [
    "# Caso alguma biblioteca estaja ausente, descomente e instale com pip\n",
    "#!pip install openpyxl"
   ]
  },
  {
   "cell_type": "code",
   "execution_count": 7,
   "id": "712e0b36",
   "metadata": {},
   "outputs": [],
   "source": [
    "def parse_primeiro_paragrafo(content):\n",
    "    \n",
    "    soup = BeautifulSoup(content, 'html.parser')    \n",
    "    single__text = soup.find('div', class_='single__text')\n",
    "    prim_parag = single__text.find('p').text\n",
    "    \n",
    "    return prim_parag\n",
    "    \n",
    "    \n",
    "def parse_result(content, page=1):\n",
    "    \n",
    "    soup = BeautifulSoup(content, 'html.parser')\n",
    "\n",
    "    lista_tag_noticia = soup.find_all('div', class_='news-item')\n",
    "\n",
    "    lista_categoria = []\n",
    "    lista_titulo = []\n",
    "    lista_prim_parag = []\n",
    "    lista_data = []\n",
    "\n",
    "    for i in range(0, len(lista_tag_noticia)-1):\n",
    "        tag_noticia = lista_tag_noticia[i]\n",
    "\n",
    "        categoria = tag_noticia.find('div', class_='news-item__category').text\n",
    "        categoria = categoria.replace('\\n', '')\n",
    "        categoria = categoria.replace('\\t', '')\n",
    "        lista_categoria.append(categoria)\n",
    "\n",
    "        tag_titulo = tag_noticia.find('h2', class_='news-item__title')\n",
    "        titulo = tag_titulo.text\n",
    "        lista_titulo.append(titulo)\n",
    "        \n",
    "        link_noticia = tag_titulo.find('a')['href']\n",
    "        content_noticia = get_content(link_noticia)\n",
    "        prim_parag = parse_primeiro_paragrafo(content_noticia)\n",
    "        lista_prim_parag.append(prim_parag)\n",
    "\n",
    "        data_hora = tag_noticia.find('span', class_='date').text\n",
    "        lista_data.append(data_hora)\n",
    "\n",
    "    df = pd.DataFrame({'Categoria': lista_categoria,\n",
    "                       'Titulo': lista_titulo,\n",
    "                       'PrimeiroParag': lista_prim_parag,\n",
    "                       'Data': lista_data,\n",
    "                       'Pagina': page,\n",
    "                       'Target': None\n",
    "                  })\n",
    "    return df\n",
    "    \n",
    "def get_content(url):\n",
    "    headers = ({'User-Agent':\n",
    "            'Mozilla/5.0 (Windows NT 6.1) AppleWebKit/537.36 (KHTML, like Gecko) Chrome/41.0.2228.0 Safari/537.36'})\n",
    "    \n",
    "    resposta = requests.get(url=url, headers=headers, timeout=30)\n",
    "    resposta.encoding = 'utf-8'\n",
    "    \n",
    "    return resposta.text\n",
    "\n",
    "def get_news_page(word, page):\n",
    "    url = f'https://www.moneytimes.com.br/page/{page}/?s={word}'\n",
    "    content = get_content(url)\n",
    "    df_res = parse_result(content, page)\n",
    "    return df_res\n",
    "\n",
    "def get_df_news(word, n_news=500):\n",
    "    page = 0\n",
    "    news_per_page = 10\n",
    "    \n",
    "    print('\\nProgresso:')\n",
    "    n_max_pages = n_news//news_per_page\n",
    "    prog_bar = IntProgress(min=0, max=n_max_pages)\n",
    "    display(prog_bar)\n",
    "\n",
    "\n",
    "    while True:\n",
    "        page = page + 1\n",
    "        df_aux = get_news_page(word, page)\n",
    "        \n",
    "        if page==1:\n",
    "            df = df_aux\n",
    "        else:\n",
    "            df = pd.concat([df, df_aux], ignore_index=True)\n",
    "        \n",
    "        prog_bar.value += 1\n",
    "        \n",
    "        if page==n_max_pages:\n",
    "            break\n",
    "            \n",
    "        sec_sleep = random.randint(2, 5)\n",
    "        time.sleep(sec_sleep)\n",
    "            \n",
    "    return df\n",
    "\n",
    "def get_news(word, n_news=500, perc_train=0.6):\n",
    "       \n",
    "    if not os.path.isfile('../../data/dados.xlsx'):\n",
    "        \n",
    "        print(f'Ok! Vou baixar notícias sobre o termo {word} no MoneyTimes.com.br!')\n",
    "        print('\\nAguarde... Este processo pode demorar alguns minutos!')\n",
    "        \n",
    "        df = get_df_news(word, n_news)\n",
    "        df = df.sample(frac=1.0)\n",
    "    \n",
    "        writer = pd.ExcelWriter('../../data/dados.xlsx')\n",
    "        \n",
    "        n_real = len(df)\n",
    "        n_treino = floor(n_real * perc_train)\n",
    "\n",
    "        dft = df.iloc[:n_treino]\n",
    "        dft.to_excel(excel_writer = writer, sheet_name = 'Treinamento', index = False)\n",
    "\n",
    "        dfc = df.iloc[n_treino:]\n",
    "        dfc.to_excel(excel_writer = writer, sheet_name = 'Teste', index = False)\n",
    "\n",
    "        writer.save()\n",
    "        \n",
    "        print('Processo finalizado!')\n",
    "        print('\\nGeramos um arquivo chamado dados.xlsx na pasta data, confira!')\n",
    "        \n",
    "    else:\n",
    "        \n",
    "        raise Exception('Arquivo dados.xlsx já existe na pasta data! Apague o arquivo caso queira gerar novamente!')\n"
   ]
  },
  {
   "cell_type": "markdown",
   "id": "8354e9e2",
   "metadata": {},
   "source": [
    "## Defina o seu assunto\n",
    "\n",
    "Defina um assunto sobre o qual gostaria de encontrar notícias para o Projeto 1.\n",
    "\n",
    "Exemplos:\n",
    "- soja\n",
    "- nft\n",
    "- ministro\n",
    "- dólar"
   ]
  },
  {
   "cell_type": "code",
   "execution_count": 1,
   "id": "41cf1c17",
   "metadata": {},
   "outputs": [],
   "source": [
    "# Quer pesquisar notícias de qual assunto?!\n",
    "# Defina nesta string!\n",
    "assunto_noticia = 'combustível'"
   ]
  },
  {
   "cell_type": "code",
   "execution_count": 2,
   "id": "1b6c6965",
   "metadata": {},
   "outputs": [],
   "source": [
    "if len(assunto_noticia.strip()) == 0:\n",
    "    raise Exception('Você precisa definir o assunto das notícias a serem baixadas na variável assunto_noticia!')"
   ]
  },
  {
   "cell_type": "markdown",
   "id": "97e88331",
   "metadata": {},
   "source": [
    "## Defina a quantidade de notícias\n",
    "\n",
    "Defina a quantidade de notícias a serem baixadas. A quantidade final retornada pode ser inferior ao desejado caso o seu assunto não seja muito abordado pelo MoneyTimes. Se isto ocorrer, escolha outro assunto."
   ]
  },
  {
   "cell_type": "code",
   "execution_count": 19,
   "id": "34adbf88",
   "metadata": {},
   "outputs": [],
   "source": [
    "# Qual a quantidade máxima desejada de notícias?! Altere aqui\n",
    "qtde_noticia = 800"
   ]
  },
  {
   "cell_type": "code",
   "execution_count": 20,
   "id": "0ab079ea",
   "metadata": {},
   "outputs": [],
   "source": [
    "if qtde_noticia <= 0:\n",
    "    raise Exception('Você precisa definir a quantidade de notícias!')"
   ]
  },
  {
   "cell_type": "markdown",
   "id": "f89177fc",
   "metadata": {},
   "source": [
    "## Obtenção das notícias\n",
    "\n",
    "Execute a próxima célula. Ela irá construir uma base de dados de notícias sobre o seu assunto de interesse!\n",
    "\n",
    "Este processo poderá demorar alguns minutos. Quando ele finalizar, será gerado um arquivo `dados.xlsx` com as notícias!\n",
    "\n",
    "Pontos de atenção:\n",
    "- Confira se a quantidade de notícias encontradas foi suficiente (conforme enunciado)"
   ]
  },
  {
   "cell_type": "code",
   "execution_count": 22,
   "id": "b1de439f",
   "metadata": {},
   "outputs": [
    {
     "name": "stdout",
     "output_type": "stream",
     "text": [
      "Ok! Vou baixar notícias sobre o termo combustível no MoneyTimes.com.br!\n",
      "\n",
      "Aguarde... Este processo pode demorar alguns minutos!\n",
      "\n",
      "Progresso:\n"
     ]
    },
    {
     "data": {
      "application/vnd.jupyter.widget-view+json": {
       "model_id": "3d82722bd0364bf7bae601ab017d0872",
       "version_major": 2,
       "version_minor": 0
      },
      "text/plain": [
       "IntProgress(value=0, max=80)"
      ]
     },
     "metadata": {},
     "output_type": "display_data"
    },
    {
     "ename": "KeyboardInterrupt",
     "evalue": "",
     "output_type": "error",
     "traceback": [
      "\u001b[1;31m---------------------------------------------------------------------------\u001b[0m",
      "\u001b[1;31mKeyboardInterrupt\u001b[0m                         Traceback (most recent call last)",
      "\u001b[1;32mc:\\Users\\nicom\\OneDrive\\Documentos\\Projeto 1 - cdados\\22-2a-cd-p1-grupo_henriquerb1\\notebooks\\scraping\\baixar_base_moneytimes.ipynb Célula: 12\u001b[0m in \u001b[0;36m<cell line: 1>\u001b[1;34m()\u001b[0m\n\u001b[1;32m----> <a href='vscode-notebook-cell:/c%3A/Users/nicom/OneDrive/Documentos/Projeto%201%20-%20cdados/22-2a-cd-p1-grupo_henriquerb1/notebooks/scraping/baixar_base_moneytimes.ipynb#X14sZmlsZQ%3D%3D?line=0'>1</a>\u001b[0m get_news(assunto_noticia, n_news\u001b[39m=\u001b[39;49mqtde_noticia, perc_train\u001b[39m=\u001b[39;49m\u001b[39m0.6\u001b[39;49m)\n",
      "\u001b[1;32mc:\\Users\\nicom\\OneDrive\\Documentos\\Projeto 1 - cdados\\22-2a-cd-p1-grupo_henriquerb1\\notebooks\\scraping\\baixar_base_moneytimes.ipynb Célula: 12\u001b[0m in \u001b[0;36mget_news\u001b[1;34m(word, n_news, perc_train)\u001b[0m\n\u001b[0;32m     <a href='vscode-notebook-cell:/c%3A/Users/nicom/OneDrive/Documentos/Projeto%201%20-%20cdados/22-2a-cd-p1-grupo_henriquerb1/notebooks/scraping/baixar_base_moneytimes.ipynb#X14sZmlsZQ%3D%3D?line=97'>98</a>\u001b[0m \u001b[39mprint\u001b[39m(\u001b[39mf\u001b[39m\u001b[39m'\u001b[39m\u001b[39mOk! Vou baixar notícias sobre o termo \u001b[39m\u001b[39m{\u001b[39;00mword\u001b[39m}\u001b[39;00m\u001b[39m no MoneyTimes.com.br!\u001b[39m\u001b[39m'\u001b[39m)\n\u001b[0;32m     <a href='vscode-notebook-cell:/c%3A/Users/nicom/OneDrive/Documentos/Projeto%201%20-%20cdados/22-2a-cd-p1-grupo_henriquerb1/notebooks/scraping/baixar_base_moneytimes.ipynb#X14sZmlsZQ%3D%3D?line=98'>99</a>\u001b[0m \u001b[39mprint\u001b[39m(\u001b[39m'\u001b[39m\u001b[39m\\n\u001b[39;00m\u001b[39mAguarde... Este processo pode demorar alguns minutos!\u001b[39m\u001b[39m'\u001b[39m)\n\u001b[1;32m--> <a href='vscode-notebook-cell:/c%3A/Users/nicom/OneDrive/Documentos/Projeto%201%20-%20cdados/22-2a-cd-p1-grupo_henriquerb1/notebooks/scraping/baixar_base_moneytimes.ipynb#X14sZmlsZQ%3D%3D?line=100'>101</a>\u001b[0m df \u001b[39m=\u001b[39m get_df_news(word, n_news)\n\u001b[0;32m    <a href='vscode-notebook-cell:/c%3A/Users/nicom/OneDrive/Documentos/Projeto%201%20-%20cdados/22-2a-cd-p1-grupo_henriquerb1/notebooks/scraping/baixar_base_moneytimes.ipynb#X14sZmlsZQ%3D%3D?line=101'>102</a>\u001b[0m df \u001b[39m=\u001b[39m df\u001b[39m.\u001b[39msample(frac\u001b[39m=\u001b[39m\u001b[39m1.0\u001b[39m)\n\u001b[0;32m    <a href='vscode-notebook-cell:/c%3A/Users/nicom/OneDrive/Documentos/Projeto%201%20-%20cdados/22-2a-cd-p1-grupo_henriquerb1/notebooks/scraping/baixar_base_moneytimes.ipynb#X14sZmlsZQ%3D%3D?line=103'>104</a>\u001b[0m writer \u001b[39m=\u001b[39m pd\u001b[39m.\u001b[39mExcelWriter(\u001b[39m'\u001b[39m\u001b[39m../../data/dados.xlsx\u001b[39m\u001b[39m'\u001b[39m)\n",
      "\u001b[1;32mc:\\Users\\nicom\\OneDrive\\Documentos\\Projeto 1 - cdados\\22-2a-cd-p1-grupo_henriquerb1\\notebooks\\scraping\\baixar_base_moneytimes.ipynb Célula: 12\u001b[0m in \u001b[0;36mget_df_news\u001b[1;34m(word, n_news)\u001b[0m\n\u001b[0;32m     <a href='vscode-notebook-cell:/c%3A/Users/nicom/OneDrive/Documentos/Projeto%201%20-%20cdados/22-2a-cd-p1-grupo_henriquerb1/notebooks/scraping/baixar_base_moneytimes.ipynb#X14sZmlsZQ%3D%3D?line=74'>75</a>\u001b[0m \u001b[39mwhile\u001b[39;00m \u001b[39mTrue\u001b[39;00m:\n\u001b[0;32m     <a href='vscode-notebook-cell:/c%3A/Users/nicom/OneDrive/Documentos/Projeto%201%20-%20cdados/22-2a-cd-p1-grupo_henriquerb1/notebooks/scraping/baixar_base_moneytimes.ipynb#X14sZmlsZQ%3D%3D?line=75'>76</a>\u001b[0m     page \u001b[39m=\u001b[39m page \u001b[39m+\u001b[39m \u001b[39m1\u001b[39m\n\u001b[1;32m---> <a href='vscode-notebook-cell:/c%3A/Users/nicom/OneDrive/Documentos/Projeto%201%20-%20cdados/22-2a-cd-p1-grupo_henriquerb1/notebooks/scraping/baixar_base_moneytimes.ipynb#X14sZmlsZQ%3D%3D?line=76'>77</a>\u001b[0m     df_aux \u001b[39m=\u001b[39m get_news_page(word, page)\n\u001b[0;32m     <a href='vscode-notebook-cell:/c%3A/Users/nicom/OneDrive/Documentos/Projeto%201%20-%20cdados/22-2a-cd-p1-grupo_henriquerb1/notebooks/scraping/baixar_base_moneytimes.ipynb#X14sZmlsZQ%3D%3D?line=78'>79</a>\u001b[0m     \u001b[39mif\u001b[39;00m page\u001b[39m==\u001b[39m\u001b[39m1\u001b[39m:\n\u001b[0;32m     <a href='vscode-notebook-cell:/c%3A/Users/nicom/OneDrive/Documentos/Projeto%201%20-%20cdados/22-2a-cd-p1-grupo_henriquerb1/notebooks/scraping/baixar_base_moneytimes.ipynb#X14sZmlsZQ%3D%3D?line=79'>80</a>\u001b[0m         df \u001b[39m=\u001b[39m df_aux\n",
      "\u001b[1;32mc:\\Users\\nicom\\OneDrive\\Documentos\\Projeto 1 - cdados\\22-2a-cd-p1-grupo_henriquerb1\\notebooks\\scraping\\baixar_base_moneytimes.ipynb Célula: 12\u001b[0m in \u001b[0;36mget_news_page\u001b[1;34m(word, page)\u001b[0m\n\u001b[0;32m     <a href='vscode-notebook-cell:/c%3A/Users/nicom/OneDrive/Documentos/Projeto%201%20-%20cdados/22-2a-cd-p1-grupo_henriquerb1/notebooks/scraping/baixar_base_moneytimes.ipynb#X14sZmlsZQ%3D%3D?line=59'>60</a>\u001b[0m url \u001b[39m=\u001b[39m \u001b[39mf\u001b[39m\u001b[39m'\u001b[39m\u001b[39mhttps://www.moneytimes.com.br/page/\u001b[39m\u001b[39m{\u001b[39;00mpage\u001b[39m}\u001b[39;00m\u001b[39m/?s=\u001b[39m\u001b[39m{\u001b[39;00mword\u001b[39m}\u001b[39;00m\u001b[39m'\u001b[39m\n\u001b[0;32m     <a href='vscode-notebook-cell:/c%3A/Users/nicom/OneDrive/Documentos/Projeto%201%20-%20cdados/22-2a-cd-p1-grupo_henriquerb1/notebooks/scraping/baixar_base_moneytimes.ipynb#X14sZmlsZQ%3D%3D?line=60'>61</a>\u001b[0m content \u001b[39m=\u001b[39m get_content(url)\n\u001b[1;32m---> <a href='vscode-notebook-cell:/c%3A/Users/nicom/OneDrive/Documentos/Projeto%201%20-%20cdados/22-2a-cd-p1-grupo_henriquerb1/notebooks/scraping/baixar_base_moneytimes.ipynb#X14sZmlsZQ%3D%3D?line=61'>62</a>\u001b[0m df_res \u001b[39m=\u001b[39m parse_result(content, page)\n\u001b[0;32m     <a href='vscode-notebook-cell:/c%3A/Users/nicom/OneDrive/Documentos/Projeto%201%20-%20cdados/22-2a-cd-p1-grupo_henriquerb1/notebooks/scraping/baixar_base_moneytimes.ipynb#X14sZmlsZQ%3D%3D?line=62'>63</a>\u001b[0m \u001b[39mreturn\u001b[39;00m df_res\n",
      "\u001b[1;32mc:\\Users\\nicom\\OneDrive\\Documentos\\Projeto 1 - cdados\\22-2a-cd-p1-grupo_henriquerb1\\notebooks\\scraping\\baixar_base_moneytimes.ipynb Célula: 12\u001b[0m in \u001b[0;36mparse_result\u001b[1;34m(content, page)\u001b[0m\n\u001b[0;32m     <a href='vscode-notebook-cell:/c%3A/Users/nicom/OneDrive/Documentos/Projeto%201%20-%20cdados/22-2a-cd-p1-grupo_henriquerb1/notebooks/scraping/baixar_base_moneytimes.ipynb#X14sZmlsZQ%3D%3D?line=30'>31</a>\u001b[0m lista_titulo\u001b[39m.\u001b[39mappend(titulo)\n\u001b[0;32m     <a href='vscode-notebook-cell:/c%3A/Users/nicom/OneDrive/Documentos/Projeto%201%20-%20cdados/22-2a-cd-p1-grupo_henriquerb1/notebooks/scraping/baixar_base_moneytimes.ipynb#X14sZmlsZQ%3D%3D?line=32'>33</a>\u001b[0m link_noticia \u001b[39m=\u001b[39m tag_titulo\u001b[39m.\u001b[39mfind(\u001b[39m'\u001b[39m\u001b[39ma\u001b[39m\u001b[39m'\u001b[39m)[\u001b[39m'\u001b[39m\u001b[39mhref\u001b[39m\u001b[39m'\u001b[39m]\n\u001b[1;32m---> <a href='vscode-notebook-cell:/c%3A/Users/nicom/OneDrive/Documentos/Projeto%201%20-%20cdados/22-2a-cd-p1-grupo_henriquerb1/notebooks/scraping/baixar_base_moneytimes.ipynb#X14sZmlsZQ%3D%3D?line=33'>34</a>\u001b[0m content_noticia \u001b[39m=\u001b[39m get_content(link_noticia)\n\u001b[0;32m     <a href='vscode-notebook-cell:/c%3A/Users/nicom/OneDrive/Documentos/Projeto%201%20-%20cdados/22-2a-cd-p1-grupo_henriquerb1/notebooks/scraping/baixar_base_moneytimes.ipynb#X14sZmlsZQ%3D%3D?line=34'>35</a>\u001b[0m prim_parag \u001b[39m=\u001b[39m parse_primeiro_paragrafo(content_noticia)\n\u001b[0;32m     <a href='vscode-notebook-cell:/c%3A/Users/nicom/OneDrive/Documentos/Projeto%201%20-%20cdados/22-2a-cd-p1-grupo_henriquerb1/notebooks/scraping/baixar_base_moneytimes.ipynb#X14sZmlsZQ%3D%3D?line=35'>36</a>\u001b[0m lista_prim_parag\u001b[39m.\u001b[39mappend(prim_parag)\n",
      "\u001b[1;32mc:\\Users\\nicom\\OneDrive\\Documentos\\Projeto 1 - cdados\\22-2a-cd-p1-grupo_henriquerb1\\notebooks\\scraping\\baixar_base_moneytimes.ipynb Célula: 12\u001b[0m in \u001b[0;36mget_content\u001b[1;34m(url)\u001b[0m\n\u001b[0;32m     <a href='vscode-notebook-cell:/c%3A/Users/nicom/OneDrive/Documentos/Projeto%201%20-%20cdados/22-2a-cd-p1-grupo_henriquerb1/notebooks/scraping/baixar_base_moneytimes.ipynb#X14sZmlsZQ%3D%3D?line=49'>50</a>\u001b[0m \u001b[39mdef\u001b[39;00m \u001b[39mget_content\u001b[39m(url):\n\u001b[0;32m     <a href='vscode-notebook-cell:/c%3A/Users/nicom/OneDrive/Documentos/Projeto%201%20-%20cdados/22-2a-cd-p1-grupo_henriquerb1/notebooks/scraping/baixar_base_moneytimes.ipynb#X14sZmlsZQ%3D%3D?line=50'>51</a>\u001b[0m     headers \u001b[39m=\u001b[39m ({\u001b[39m'\u001b[39m\u001b[39mUser-Agent\u001b[39m\u001b[39m'\u001b[39m:\n\u001b[0;32m     <a href='vscode-notebook-cell:/c%3A/Users/nicom/OneDrive/Documentos/Projeto%201%20-%20cdados/22-2a-cd-p1-grupo_henriquerb1/notebooks/scraping/baixar_base_moneytimes.ipynb#X14sZmlsZQ%3D%3D?line=51'>52</a>\u001b[0m             \u001b[39m'\u001b[39m\u001b[39mMozilla/5.0 (Windows NT 6.1) AppleWebKit/537.36 (KHTML, like Gecko) Chrome/41.0.2228.0 Safari/537.36\u001b[39m\u001b[39m'\u001b[39m})\n\u001b[1;32m---> <a href='vscode-notebook-cell:/c%3A/Users/nicom/OneDrive/Documentos/Projeto%201%20-%20cdados/22-2a-cd-p1-grupo_henriquerb1/notebooks/scraping/baixar_base_moneytimes.ipynb#X14sZmlsZQ%3D%3D?line=53'>54</a>\u001b[0m     resposta \u001b[39m=\u001b[39m requests\u001b[39m.\u001b[39;49mget(url\u001b[39m=\u001b[39;49murl, headers\u001b[39m=\u001b[39;49mheaders, timeout\u001b[39m=\u001b[39;49m\u001b[39m30\u001b[39;49m)\n\u001b[0;32m     <a href='vscode-notebook-cell:/c%3A/Users/nicom/OneDrive/Documentos/Projeto%201%20-%20cdados/22-2a-cd-p1-grupo_henriquerb1/notebooks/scraping/baixar_base_moneytimes.ipynb#X14sZmlsZQ%3D%3D?line=54'>55</a>\u001b[0m     resposta\u001b[39m.\u001b[39mencoding \u001b[39m=\u001b[39m \u001b[39m'\u001b[39m\u001b[39mutf-8\u001b[39m\u001b[39m'\u001b[39m\n\u001b[0;32m     <a href='vscode-notebook-cell:/c%3A/Users/nicom/OneDrive/Documentos/Projeto%201%20-%20cdados/22-2a-cd-p1-grupo_henriquerb1/notebooks/scraping/baixar_base_moneytimes.ipynb#X14sZmlsZQ%3D%3D?line=56'>57</a>\u001b[0m     \u001b[39mreturn\u001b[39;00m resposta\u001b[39m.\u001b[39mtext\n",
      "File \u001b[1;32m~\\AppData\\Local\\Packages\\PythonSoftwareFoundation.Python.3.9_qbz5n2kfra8p0\\LocalCache\\local-packages\\Python39\\site-packages\\requests\\api.py:73\u001b[0m, in \u001b[0;36mget\u001b[1;34m(url, params, **kwargs)\u001b[0m\n\u001b[0;32m     62\u001b[0m \u001b[39mdef\u001b[39;00m \u001b[39mget\u001b[39m(url, params\u001b[39m=\u001b[39m\u001b[39mNone\u001b[39;00m, \u001b[39m*\u001b[39m\u001b[39m*\u001b[39mkwargs):\n\u001b[0;32m     63\u001b[0m     \u001b[39mr\u001b[39m\u001b[39m\"\"\"Sends a GET request.\u001b[39;00m\n\u001b[0;32m     64\u001b[0m \n\u001b[0;32m     65\u001b[0m \u001b[39m    :param url: URL for the new :class:`Request` object.\u001b[39;00m\n\u001b[1;32m   (...)\u001b[0m\n\u001b[0;32m     70\u001b[0m \u001b[39m    :rtype: requests.Response\u001b[39;00m\n\u001b[0;32m     71\u001b[0m \u001b[39m    \"\"\"\u001b[39;00m\n\u001b[1;32m---> 73\u001b[0m     \u001b[39mreturn\u001b[39;00m request(\u001b[39m\"\u001b[39m\u001b[39mget\u001b[39m\u001b[39m\"\u001b[39m, url, params\u001b[39m=\u001b[39mparams, \u001b[39m*\u001b[39m\u001b[39m*\u001b[39mkwargs)\n",
      "File \u001b[1;32m~\\AppData\\Local\\Packages\\PythonSoftwareFoundation.Python.3.9_qbz5n2kfra8p0\\LocalCache\\local-packages\\Python39\\site-packages\\requests\\api.py:59\u001b[0m, in \u001b[0;36mrequest\u001b[1;34m(method, url, **kwargs)\u001b[0m\n\u001b[0;32m     55\u001b[0m \u001b[39m# By using the 'with' statement we are sure the session is closed, thus we\u001b[39;00m\n\u001b[0;32m     56\u001b[0m \u001b[39m# avoid leaving sockets open which can trigger a ResourceWarning in some\u001b[39;00m\n\u001b[0;32m     57\u001b[0m \u001b[39m# cases, and look like a memory leak in others.\u001b[39;00m\n\u001b[0;32m     58\u001b[0m \u001b[39mwith\u001b[39;00m sessions\u001b[39m.\u001b[39mSession() \u001b[39mas\u001b[39;00m session:\n\u001b[1;32m---> 59\u001b[0m     \u001b[39mreturn\u001b[39;00m session\u001b[39m.\u001b[39mrequest(method\u001b[39m=\u001b[39mmethod, url\u001b[39m=\u001b[39murl, \u001b[39m*\u001b[39m\u001b[39m*\u001b[39mkwargs)\n",
      "File \u001b[1;32m~\\AppData\\Local\\Packages\\PythonSoftwareFoundation.Python.3.9_qbz5n2kfra8p0\\LocalCache\\local-packages\\Python39\\site-packages\\requests\\sessions.py:587\u001b[0m, in \u001b[0;36mSession.request\u001b[1;34m(self, method, url, params, data, headers, cookies, files, auth, timeout, allow_redirects, proxies, hooks, stream, verify, cert, json)\u001b[0m\n\u001b[0;32m    582\u001b[0m send_kwargs \u001b[39m=\u001b[39m {\n\u001b[0;32m    583\u001b[0m     \u001b[39m\"\u001b[39m\u001b[39mtimeout\u001b[39m\u001b[39m\"\u001b[39m: timeout,\n\u001b[0;32m    584\u001b[0m     \u001b[39m\"\u001b[39m\u001b[39mallow_redirects\u001b[39m\u001b[39m\"\u001b[39m: allow_redirects,\n\u001b[0;32m    585\u001b[0m }\n\u001b[0;32m    586\u001b[0m send_kwargs\u001b[39m.\u001b[39mupdate(settings)\n\u001b[1;32m--> 587\u001b[0m resp \u001b[39m=\u001b[39m \u001b[39mself\u001b[39m\u001b[39m.\u001b[39msend(prep, \u001b[39m*\u001b[39m\u001b[39m*\u001b[39msend_kwargs)\n\u001b[0;32m    589\u001b[0m \u001b[39mreturn\u001b[39;00m resp\n",
      "File \u001b[1;32m~\\AppData\\Local\\Packages\\PythonSoftwareFoundation.Python.3.9_qbz5n2kfra8p0\\LocalCache\\local-packages\\Python39\\site-packages\\requests\\sessions.py:701\u001b[0m, in \u001b[0;36mSession.send\u001b[1;34m(self, request, **kwargs)\u001b[0m\n\u001b[0;32m    698\u001b[0m start \u001b[39m=\u001b[39m preferred_clock()\n\u001b[0;32m    700\u001b[0m \u001b[39m# Send the request\u001b[39;00m\n\u001b[1;32m--> 701\u001b[0m r \u001b[39m=\u001b[39m adapter\u001b[39m.\u001b[39msend(request, \u001b[39m*\u001b[39m\u001b[39m*\u001b[39mkwargs)\n\u001b[0;32m    703\u001b[0m \u001b[39m# Total elapsed time of the request (approximately)\u001b[39;00m\n\u001b[0;32m    704\u001b[0m elapsed \u001b[39m=\u001b[39m preferred_clock() \u001b[39m-\u001b[39m start\n",
      "File \u001b[1;32m~\\AppData\\Local\\Packages\\PythonSoftwareFoundation.Python.3.9_qbz5n2kfra8p0\\LocalCache\\local-packages\\Python39\\site-packages\\requests\\adapters.py:489\u001b[0m, in \u001b[0;36mHTTPAdapter.send\u001b[1;34m(self, request, stream, timeout, verify, cert, proxies)\u001b[0m\n\u001b[0;32m    487\u001b[0m \u001b[39mtry\u001b[39;00m:\n\u001b[0;32m    488\u001b[0m     \u001b[39mif\u001b[39;00m \u001b[39mnot\u001b[39;00m chunked:\n\u001b[1;32m--> 489\u001b[0m         resp \u001b[39m=\u001b[39m conn\u001b[39m.\u001b[39;49murlopen(\n\u001b[0;32m    490\u001b[0m             method\u001b[39m=\u001b[39;49mrequest\u001b[39m.\u001b[39;49mmethod,\n\u001b[0;32m    491\u001b[0m             url\u001b[39m=\u001b[39;49murl,\n\u001b[0;32m    492\u001b[0m             body\u001b[39m=\u001b[39;49mrequest\u001b[39m.\u001b[39;49mbody,\n\u001b[0;32m    493\u001b[0m             headers\u001b[39m=\u001b[39;49mrequest\u001b[39m.\u001b[39;49mheaders,\n\u001b[0;32m    494\u001b[0m             redirect\u001b[39m=\u001b[39;49m\u001b[39mFalse\u001b[39;49;00m,\n\u001b[0;32m    495\u001b[0m             assert_same_host\u001b[39m=\u001b[39;49m\u001b[39mFalse\u001b[39;49;00m,\n\u001b[0;32m    496\u001b[0m             preload_content\u001b[39m=\u001b[39;49m\u001b[39mFalse\u001b[39;49;00m,\n\u001b[0;32m    497\u001b[0m             decode_content\u001b[39m=\u001b[39;49m\u001b[39mFalse\u001b[39;49;00m,\n\u001b[0;32m    498\u001b[0m             retries\u001b[39m=\u001b[39;49m\u001b[39mself\u001b[39;49m\u001b[39m.\u001b[39;49mmax_retries,\n\u001b[0;32m    499\u001b[0m             timeout\u001b[39m=\u001b[39;49mtimeout,\n\u001b[0;32m    500\u001b[0m         )\n\u001b[0;32m    502\u001b[0m     \u001b[39m# Send the request.\u001b[39;00m\n\u001b[0;32m    503\u001b[0m     \u001b[39melse\u001b[39;00m:\n\u001b[0;32m    504\u001b[0m         \u001b[39mif\u001b[39;00m \u001b[39mhasattr\u001b[39m(conn, \u001b[39m\"\u001b[39m\u001b[39mproxy_pool\u001b[39m\u001b[39m\"\u001b[39m):\n",
      "File \u001b[1;32m~\\AppData\\Local\\Packages\\PythonSoftwareFoundation.Python.3.9_qbz5n2kfra8p0\\LocalCache\\local-packages\\Python39\\site-packages\\urllib3\\connectionpool.py:703\u001b[0m, in \u001b[0;36mHTTPConnectionPool.urlopen\u001b[1;34m(self, method, url, body, headers, retries, redirect, assert_same_host, timeout, pool_timeout, release_conn, chunked, body_pos, **response_kw)\u001b[0m\n\u001b[0;32m    700\u001b[0m     \u001b[39mself\u001b[39m\u001b[39m.\u001b[39m_prepare_proxy(conn)\n\u001b[0;32m    702\u001b[0m \u001b[39m# Make the request on the httplib connection object.\u001b[39;00m\n\u001b[1;32m--> 703\u001b[0m httplib_response \u001b[39m=\u001b[39m \u001b[39mself\u001b[39;49m\u001b[39m.\u001b[39;49m_make_request(\n\u001b[0;32m    704\u001b[0m     conn,\n\u001b[0;32m    705\u001b[0m     method,\n\u001b[0;32m    706\u001b[0m     url,\n\u001b[0;32m    707\u001b[0m     timeout\u001b[39m=\u001b[39;49mtimeout_obj,\n\u001b[0;32m    708\u001b[0m     body\u001b[39m=\u001b[39;49mbody,\n\u001b[0;32m    709\u001b[0m     headers\u001b[39m=\u001b[39;49mheaders,\n\u001b[0;32m    710\u001b[0m     chunked\u001b[39m=\u001b[39;49mchunked,\n\u001b[0;32m    711\u001b[0m )\n\u001b[0;32m    713\u001b[0m \u001b[39m# If we're going to release the connection in ``finally:``, then\u001b[39;00m\n\u001b[0;32m    714\u001b[0m \u001b[39m# the response doesn't need to know about the connection. Otherwise\u001b[39;00m\n\u001b[0;32m    715\u001b[0m \u001b[39m# it will also try to release it and we'll have a double-release\u001b[39;00m\n\u001b[0;32m    716\u001b[0m \u001b[39m# mess.\u001b[39;00m\n\u001b[0;32m    717\u001b[0m response_conn \u001b[39m=\u001b[39m conn \u001b[39mif\u001b[39;00m \u001b[39mnot\u001b[39;00m release_conn \u001b[39melse\u001b[39;00m \u001b[39mNone\u001b[39;00m\n",
      "File \u001b[1;32m~\\AppData\\Local\\Packages\\PythonSoftwareFoundation.Python.3.9_qbz5n2kfra8p0\\LocalCache\\local-packages\\Python39\\site-packages\\urllib3\\connectionpool.py:449\u001b[0m, in \u001b[0;36mHTTPConnectionPool._make_request\u001b[1;34m(self, conn, method, url, timeout, chunked, **httplib_request_kw)\u001b[0m\n\u001b[0;32m    444\u001b[0m             httplib_response \u001b[39m=\u001b[39m conn\u001b[39m.\u001b[39mgetresponse()\n\u001b[0;32m    445\u001b[0m         \u001b[39mexcept\u001b[39;00m \u001b[39mBaseException\u001b[39;00m \u001b[39mas\u001b[39;00m e:\n\u001b[0;32m    446\u001b[0m             \u001b[39m# Remove the TypeError from the exception chain in\u001b[39;00m\n\u001b[0;32m    447\u001b[0m             \u001b[39m# Python 3 (including for exceptions like SystemExit).\u001b[39;00m\n\u001b[0;32m    448\u001b[0m             \u001b[39m# Otherwise it looks like a bug in the code.\u001b[39;00m\n\u001b[1;32m--> 449\u001b[0m             six\u001b[39m.\u001b[39;49mraise_from(e, \u001b[39mNone\u001b[39;49;00m)\n\u001b[0;32m    450\u001b[0m \u001b[39mexcept\u001b[39;00m (SocketTimeout, BaseSSLError, SocketError) \u001b[39mas\u001b[39;00m e:\n\u001b[0;32m    451\u001b[0m     \u001b[39mself\u001b[39m\u001b[39m.\u001b[39m_raise_timeout(err\u001b[39m=\u001b[39me, url\u001b[39m=\u001b[39murl, timeout_value\u001b[39m=\u001b[39mread_timeout)\n",
      "File \u001b[1;32m<string>:3\u001b[0m, in \u001b[0;36mraise_from\u001b[1;34m(value, from_value)\u001b[0m\n",
      "File \u001b[1;32m~\\AppData\\Local\\Packages\\PythonSoftwareFoundation.Python.3.9_qbz5n2kfra8p0\\LocalCache\\local-packages\\Python39\\site-packages\\urllib3\\connectionpool.py:444\u001b[0m, in \u001b[0;36mHTTPConnectionPool._make_request\u001b[1;34m(self, conn, method, url, timeout, chunked, **httplib_request_kw)\u001b[0m\n\u001b[0;32m    441\u001b[0m \u001b[39mexcept\u001b[39;00m \u001b[39mTypeError\u001b[39;00m:\n\u001b[0;32m    442\u001b[0m     \u001b[39m# Python 3\u001b[39;00m\n\u001b[0;32m    443\u001b[0m     \u001b[39mtry\u001b[39;00m:\n\u001b[1;32m--> 444\u001b[0m         httplib_response \u001b[39m=\u001b[39m conn\u001b[39m.\u001b[39;49mgetresponse()\n\u001b[0;32m    445\u001b[0m     \u001b[39mexcept\u001b[39;00m \u001b[39mBaseException\u001b[39;00m \u001b[39mas\u001b[39;00m e:\n\u001b[0;32m    446\u001b[0m         \u001b[39m# Remove the TypeError from the exception chain in\u001b[39;00m\n\u001b[0;32m    447\u001b[0m         \u001b[39m# Python 3 (including for exceptions like SystemExit).\u001b[39;00m\n\u001b[0;32m    448\u001b[0m         \u001b[39m# Otherwise it looks like a bug in the code.\u001b[39;00m\n\u001b[0;32m    449\u001b[0m         six\u001b[39m.\u001b[39mraise_from(e, \u001b[39mNone\u001b[39;00m)\n",
      "File \u001b[1;32mC:\\Program Files\\WindowsApps\\PythonSoftwareFoundation.Python.3.9_3.9.3568.0_x64__qbz5n2kfra8p0\\lib\\http\\client.py:1377\u001b[0m, in \u001b[0;36mHTTPConnection.getresponse\u001b[1;34m(self)\u001b[0m\n\u001b[0;32m   1375\u001b[0m \u001b[39mtry\u001b[39;00m:\n\u001b[0;32m   1376\u001b[0m     \u001b[39mtry\u001b[39;00m:\n\u001b[1;32m-> 1377\u001b[0m         response\u001b[39m.\u001b[39;49mbegin()\n\u001b[0;32m   1378\u001b[0m     \u001b[39mexcept\u001b[39;00m \u001b[39mConnectionError\u001b[39;00m:\n\u001b[0;32m   1379\u001b[0m         \u001b[39mself\u001b[39m\u001b[39m.\u001b[39mclose()\n",
      "File \u001b[1;32mC:\\Program Files\\WindowsApps\\PythonSoftwareFoundation.Python.3.9_3.9.3568.0_x64__qbz5n2kfra8p0\\lib\\http\\client.py:320\u001b[0m, in \u001b[0;36mHTTPResponse.begin\u001b[1;34m(self)\u001b[0m\n\u001b[0;32m    318\u001b[0m \u001b[39m# read until we get a non-100 response\u001b[39;00m\n\u001b[0;32m    319\u001b[0m \u001b[39mwhile\u001b[39;00m \u001b[39mTrue\u001b[39;00m:\n\u001b[1;32m--> 320\u001b[0m     version, status, reason \u001b[39m=\u001b[39m \u001b[39mself\u001b[39;49m\u001b[39m.\u001b[39;49m_read_status()\n\u001b[0;32m    321\u001b[0m     \u001b[39mif\u001b[39;00m status \u001b[39m!=\u001b[39m CONTINUE:\n\u001b[0;32m    322\u001b[0m         \u001b[39mbreak\u001b[39;00m\n",
      "File \u001b[1;32mC:\\Program Files\\WindowsApps\\PythonSoftwareFoundation.Python.3.9_3.9.3568.0_x64__qbz5n2kfra8p0\\lib\\http\\client.py:281\u001b[0m, in \u001b[0;36mHTTPResponse._read_status\u001b[1;34m(self)\u001b[0m\n\u001b[0;32m    280\u001b[0m \u001b[39mdef\u001b[39;00m \u001b[39m_read_status\u001b[39m(\u001b[39mself\u001b[39m):\n\u001b[1;32m--> 281\u001b[0m     line \u001b[39m=\u001b[39m \u001b[39mstr\u001b[39m(\u001b[39mself\u001b[39;49m\u001b[39m.\u001b[39;49mfp\u001b[39m.\u001b[39;49mreadline(_MAXLINE \u001b[39m+\u001b[39;49m \u001b[39m1\u001b[39;49m), \u001b[39m\"\u001b[39m\u001b[39miso-8859-1\u001b[39m\u001b[39m\"\u001b[39m)\n\u001b[0;32m    282\u001b[0m     \u001b[39mif\u001b[39;00m \u001b[39mlen\u001b[39m(line) \u001b[39m>\u001b[39m _MAXLINE:\n\u001b[0;32m    283\u001b[0m         \u001b[39mraise\u001b[39;00m LineTooLong(\u001b[39m\"\u001b[39m\u001b[39mstatus line\u001b[39m\u001b[39m\"\u001b[39m)\n",
      "File \u001b[1;32mC:\\Program Files\\WindowsApps\\PythonSoftwareFoundation.Python.3.9_3.9.3568.0_x64__qbz5n2kfra8p0\\lib\\socket.py:704\u001b[0m, in \u001b[0;36mSocketIO.readinto\u001b[1;34m(self, b)\u001b[0m\n\u001b[0;32m    702\u001b[0m \u001b[39mwhile\u001b[39;00m \u001b[39mTrue\u001b[39;00m:\n\u001b[0;32m    703\u001b[0m     \u001b[39mtry\u001b[39;00m:\n\u001b[1;32m--> 704\u001b[0m         \u001b[39mreturn\u001b[39;00m \u001b[39mself\u001b[39;49m\u001b[39m.\u001b[39;49m_sock\u001b[39m.\u001b[39;49mrecv_into(b)\n\u001b[0;32m    705\u001b[0m     \u001b[39mexcept\u001b[39;00m timeout:\n\u001b[0;32m    706\u001b[0m         \u001b[39mself\u001b[39m\u001b[39m.\u001b[39m_timeout_occurred \u001b[39m=\u001b[39m \u001b[39mTrue\u001b[39;00m\n",
      "File \u001b[1;32mC:\\Program Files\\WindowsApps\\PythonSoftwareFoundation.Python.3.9_3.9.3568.0_x64__qbz5n2kfra8p0\\lib\\ssl.py:1242\u001b[0m, in \u001b[0;36mSSLSocket.recv_into\u001b[1;34m(self, buffer, nbytes, flags)\u001b[0m\n\u001b[0;32m   1238\u001b[0m     \u001b[39mif\u001b[39;00m flags \u001b[39m!=\u001b[39m \u001b[39m0\u001b[39m:\n\u001b[0;32m   1239\u001b[0m         \u001b[39mraise\u001b[39;00m \u001b[39mValueError\u001b[39;00m(\n\u001b[0;32m   1240\u001b[0m           \u001b[39m\"\u001b[39m\u001b[39mnon-zero flags not allowed in calls to recv_into() on \u001b[39m\u001b[39m%s\u001b[39;00m\u001b[39m\"\u001b[39m \u001b[39m%\u001b[39m\n\u001b[0;32m   1241\u001b[0m           \u001b[39mself\u001b[39m\u001b[39m.\u001b[39m\u001b[39m__class__\u001b[39m)\n\u001b[1;32m-> 1242\u001b[0m     \u001b[39mreturn\u001b[39;00m \u001b[39mself\u001b[39;49m\u001b[39m.\u001b[39;49mread(nbytes, buffer)\n\u001b[0;32m   1243\u001b[0m \u001b[39melse\u001b[39;00m:\n\u001b[0;32m   1244\u001b[0m     \u001b[39mreturn\u001b[39;00m \u001b[39msuper\u001b[39m()\u001b[39m.\u001b[39mrecv_into(buffer, nbytes, flags)\n",
      "File \u001b[1;32mC:\\Program Files\\WindowsApps\\PythonSoftwareFoundation.Python.3.9_3.9.3568.0_x64__qbz5n2kfra8p0\\lib\\ssl.py:1100\u001b[0m, in \u001b[0;36mSSLSocket.read\u001b[1;34m(self, len, buffer)\u001b[0m\n\u001b[0;32m   1098\u001b[0m \u001b[39mtry\u001b[39;00m:\n\u001b[0;32m   1099\u001b[0m     \u001b[39mif\u001b[39;00m buffer \u001b[39mis\u001b[39;00m \u001b[39mnot\u001b[39;00m \u001b[39mNone\u001b[39;00m:\n\u001b[1;32m-> 1100\u001b[0m         \u001b[39mreturn\u001b[39;00m \u001b[39mself\u001b[39;49m\u001b[39m.\u001b[39;49m_sslobj\u001b[39m.\u001b[39;49mread(\u001b[39mlen\u001b[39;49m, buffer)\n\u001b[0;32m   1101\u001b[0m     \u001b[39melse\u001b[39;00m:\n\u001b[0;32m   1102\u001b[0m         \u001b[39mreturn\u001b[39;00m \u001b[39mself\u001b[39m\u001b[39m.\u001b[39m_sslobj\u001b[39m.\u001b[39mread(\u001b[39mlen\u001b[39m)\n",
      "\u001b[1;31mKeyboardInterrupt\u001b[0m: "
     ]
    }
   ],
   "source": [
    "get_news(assunto_noticia, n_news=qtde_noticia, perc_train=0.6)"
   ]
  }
 ],
 "metadata": {
  "kernelspec": {
   "display_name": "Python 3.9.13 64-bit (microsoft store)",
   "language": "python",
   "name": "python3"
  },
  "language_info": {
   "codemirror_mode": {
    "name": "ipython",
    "version": 3
   },
   "file_extension": ".py",
   "mimetype": "text/x-python",
   "name": "python",
   "nbconvert_exporter": "python",
   "pygments_lexer": "ipython3",
   "version": "3.9.13"
  },
  "vscode": {
   "interpreter": {
    "hash": "3c7491a141668a7f8248634d0e3993501b6688345b3864e2edd13cd65530f304"
   }
  }
 },
 "nbformat": 4,
 "nbformat_minor": 5
}
