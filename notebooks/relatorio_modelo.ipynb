{
 "cells": [
  {
   "cell_type": "markdown",
   "metadata": {},
   "source": [
    "# Projeto 1 - Ciência dos Dados"
   ]
  },
  {
   "cell_type": "markdown",
   "metadata": {},
   "source": [
    "Nome: Henrique Rocha Bomfim\n",
    "\n",
    "Nome: Nicholas Morales Balkins"
   ]
  },
  {
   "cell_type": "markdown",
   "metadata": {},
   "source": [
    "Atenção: Serão permitidos grupos de três pessoas, mas com uma rubrica mais exigente. Grupos deste tamanho precisarão fazer um questionário de avaliação de trabalho em equipe"
   ]
  },
  {
   "cell_type": "markdown",
   "metadata": {},
   "source": [
    "___\n",
    "Carregando algumas bibliotecas:"
   ]
  },
  {
   "cell_type": "code",
   "execution_count": 6,
   "metadata": {},
   "outputs": [],
   "source": [
    "\n",
    "\n",
    "import pandas as pd\n",
    "\n",
    "import numpy as np\n",
    "import os\n",
    "import re"
   ]
  },
  {
   "cell_type": "code",
   "execution_count": 7,
   "metadata": {
    "scrolled": false
   },
   "outputs": [
    {
     "name": "stdout",
     "output_type": "stream",
     "text": [
      "Esperamos trabalhar no diretório\n",
      "c:\\Users\\nicom\\OneDrive\\Documentos\\Projeto 1 - cdados\\22-2a-cd-p1-grupo_henriquerb1\\notebooks\n"
     ]
    }
   ],
   "source": [
    "print('Esperamos trabalhar no diretório')\n",
    "print(os.getcwd())\n",
    "\n",
    "os.chdir(\"..\\data\")"
   ]
  },
  {
   "cell_type": "markdown",
   "metadata": {},
   "source": [
    "Carregando a base de dados com as notícias classificadas manualmente:"
   ]
  },
  {
   "cell_type": "code",
   "execution_count": 8,
   "metadata": {},
   "outputs": [],
   "source": [
    "filename = 'dados.xlsx'"
   ]
  },
  {
   "cell_type": "code",
   "execution_count": 9,
   "metadata": {},
   "outputs": [
    {
     "data": {
      "text/html": [
       "<div>\n",
       "<style scoped>\n",
       "    .dataframe tbody tr th:only-of-type {\n",
       "        vertical-align: middle;\n",
       "    }\n",
       "\n",
       "    .dataframe tbody tr th {\n",
       "        vertical-align: top;\n",
       "    }\n",
       "\n",
       "    .dataframe thead th {\n",
       "        text-align: right;\n",
       "    }\n",
       "</style>\n",
       "<table border=\"1\" class=\"dataframe\">\n",
       "  <thead>\n",
       "    <tr style=\"text-align: right;\">\n",
       "      <th></th>\n",
       "      <th>Titulo</th>\n",
       "      <th>Descrição</th>\n",
       "      <th>Pagina</th>\n",
       "      <th>Target</th>\n",
       "    </tr>\n",
       "  </thead>\n",
       "  <tbody>\n",
       "    <tr>\n",
       "      <th>0</th>\n",
       "      <td>Ucrânia oferece recompensa “generosa” para que...</td>\n",
       "      <td>A Ucrânia está de olho nas carteiras de cripto...</td>\n",
       "      <td>68</td>\n",
       "      <td>0</td>\n",
       "    </tr>\n",
       "    <tr>\n",
       "      <th>1</th>\n",
       "      <td>Só 12,9% da oferta disponível de bitcoin no me...</td>\n",
       "      <td>Conforme o preço do bitcoin (BTC) continua sub...</td>\n",
       "      <td>100</td>\n",
       "      <td>2</td>\n",
       "    </tr>\n",
       "    <tr>\n",
       "      <th>2</th>\n",
       "      <td>Presidente do Paraguai veta lei que regula as ...</td>\n",
       "      <td>O presidente do Paraguai, Mario Abdo Benítez, ...</td>\n",
       "      <td>4</td>\n",
       "      <td>2</td>\n",
       "    </tr>\n",
       "    <tr>\n",
       "      <th>3</th>\n",
       "      <td>Corretora de criptomoedas Coinbase vai entrar ...</td>\n",
       "      <td>A Coinbase, a maior corretora de criptomoedas ...</td>\n",
       "      <td>5</td>\n",
       "      <td>0</td>\n",
       "    </tr>\n",
       "    <tr>\n",
       "      <th>4</th>\n",
       "      <td>Por que criptomoedas e esports estão cada vez ...</td>\n",
       "      <td>Quando a corretora de criptomoedas FTX anuncio...</td>\n",
       "      <td>13</td>\n",
       "      <td>1</td>\n",
       "    </tr>\n",
       "  </tbody>\n",
       "</table>\n",
       "</div>"
      ],
      "text/plain": [
       "                                              Titulo  \\\n",
       "0  Ucrânia oferece recompensa “generosa” para que...   \n",
       "1  Só 12,9% da oferta disponível de bitcoin no me...   \n",
       "2  Presidente do Paraguai veta lei que regula as ...   \n",
       "3  Corretora de criptomoedas Coinbase vai entrar ...   \n",
       "4  Por que criptomoedas e esports estão cada vez ...   \n",
       "\n",
       "                                           Descrição  Pagina  Target  \n",
       "0  A Ucrânia está de olho nas carteiras de cripto...      68       0  \n",
       "1  Conforme o preço do bitcoin (BTC) continua sub...     100       2  \n",
       "2  O presidente do Paraguai, Mario Abdo Benítez, ...       4       2  \n",
       "3  A Coinbase, a maior corretora de criptomoedas ...       5       0  \n",
       "4  Quando a corretora de criptomoedas FTX anuncio...      13       1  "
      ]
     },
     "execution_count": 9,
     "metadata": {},
     "output_type": "execute_result"
    }
   ],
   "source": [
    "train = pd.read_excel(filename, sheet_name = 'Treinamento')\n",
    "train.head(5)"
   ]
  },
  {
   "cell_type": "code",
   "execution_count": 10,
   "metadata": {},
   "outputs": [
    {
     "data": {
      "text/html": [
       "<div>\n",
       "<style scoped>\n",
       "    .dataframe tbody tr th:only-of-type {\n",
       "        vertical-align: middle;\n",
       "    }\n",
       "\n",
       "    .dataframe tbody tr th {\n",
       "        vertical-align: top;\n",
       "    }\n",
       "\n",
       "    .dataframe thead th {\n",
       "        text-align: right;\n",
       "    }\n",
       "</style>\n",
       "<table border=\"1\" class=\"dataframe\">\n",
       "  <thead>\n",
       "    <tr style=\"text-align: right;\">\n",
       "      <th></th>\n",
       "      <th>Titulo</th>\n",
       "      <th>Descrição</th>\n",
       "      <th>Pagina</th>\n",
       "      <th>Target</th>\n",
       "    </tr>\n",
       "  </thead>\n",
       "  <tbody>\n",
       "    <tr>\n",
       "      <th>0</th>\n",
       "      <td>Binance libera compra de oito criptomoedas com...</td>\n",
       "      <td>A Binance liberou oito criptomoedas que agora ...</td>\n",
       "      <td>73</td>\n",
       "      <td>1</td>\n",
       "    </tr>\n",
       "    <tr>\n",
       "      <th>1</th>\n",
       "      <td>Veja qual criptomoeda pode “herdar” os minerad...</td>\n",
       "      <td>Holders de ETC, a criptomoeda da rede Ethereum...</td>\n",
       "      <td>5</td>\n",
       "      <td>0</td>\n",
       "    </tr>\n",
       "    <tr>\n",
       "      <th>2</th>\n",
       "      <td>Venezuela vai punir quem negociar criptomoedas...</td>\n",
       "      <td>Os venezuelanos que negociam criptomoedas em e...</td>\n",
       "      <td>36</td>\n",
       "      <td>2</td>\n",
       "    </tr>\n",
       "    <tr>\n",
       "      <th>3</th>\n",
       "      <td>Corretora de criptomoedas desiste de patrocina...</td>\n",
       "      <td>A corretora Crypto.com desistiu de um enorme a...</td>\n",
       "      <td>3</td>\n",
       "      <td>2</td>\n",
       "    </tr>\n",
       "    <tr>\n",
       "      <th>4</th>\n",
       "      <td>Golpistas lançam falsa criptomoeda da empresa-...</td>\n",
       "      <td>Nos últimos dias começou a circular no mercado...</td>\n",
       "      <td>71</td>\n",
       "      <td>2</td>\n",
       "    </tr>\n",
       "  </tbody>\n",
       "</table>\n",
       "</div>"
      ],
      "text/plain": [
       "                                              Titulo  \\\n",
       "0  Binance libera compra de oito criptomoedas com...   \n",
       "1  Veja qual criptomoeda pode “herdar” os minerad...   \n",
       "2  Venezuela vai punir quem negociar criptomoedas...   \n",
       "3  Corretora de criptomoedas desiste de patrocina...   \n",
       "4  Golpistas lançam falsa criptomoeda da empresa-...   \n",
       "\n",
       "                                           Descrição  Pagina  Target  \n",
       "0  A Binance liberou oito criptomoedas que agora ...      73       1  \n",
       "1  Holders de ETC, a criptomoeda da rede Ethereum...       5       0  \n",
       "2  Os venezuelanos que negociam criptomoedas em e...      36       2  \n",
       "3  A corretora Crypto.com desistiu de um enorme a...       3       2  \n",
       "4  Nos últimos dias começou a circular no mercado...      71       2  "
      ]
     },
     "execution_count": 10,
     "metadata": {},
     "output_type": "execute_result"
    }
   ],
   "source": [
    "test = pd.read_excel(filename, sheet_name = 'Teste')\n",
    "test.head(5)"
   ]
  },
  {
   "cell_type": "markdown",
   "metadata": {},
   "source": [
    "___\n",
    "## Classificador automático\n"
   ]
  },
  {
   "cell_type": "markdown",
   "metadata": {},
   "source": [
    "Faça aqui uma descrição do seu assunto e o que considerou como relevante ou não relevante na classificação das notícias (Target).\n",
    "\n",
    "Criptomoedas -> Se foi aderida para algum processo ou não, e se não se aplica à notícia."
   ]
  },
  {
   "cell_type": "markdown",
   "metadata": {},
   "source": [
    "___\n",
    "### Montando um Classificador Naive-Bayes\n",
    "\n",
    "Considerando apenas as mensagens da planilha Treinamento, ensine  seu classificador."
   ]
  },
  {
   "cell_type": "code",
   "execution_count": 13,
   "metadata": {},
   "outputs": [
    {
     "name": "stdout",
     "output_type": "stream",
     "text": [
      "de                   228\n",
      "criptomoedas         136\n",
      "para                  67\n",
      "e                     67\n",
      "do                    64\n",
      "                    ... \n",
      "novas                  1\n",
      "criptomoedasPreso      1\n",
      "PF                     1\n",
      "tráfico                1\n",
      "Plenário               1\n",
      "Length: 1208, dtype: int64 \n",
      "\n",
      "de                       70\n",
      "criptomoedas             52\n",
      "e                        36\n",
      "em                       32\n",
      "do                       26\n",
      "                         ..\n",
      "Libertadores              1\n",
      "patrocinar                1\n",
      "criptomoedasCorretora     1\n",
      "pagar                     1\n",
      "baixa                     1\n",
      "Length: 551, dtype: int64 \n",
      "\n",
      "de               54\n",
      "criptomoedas     33\n",
      "a                18\n",
      "em               17\n",
      "e                15\n",
      "                 ..\n",
      "desativados       1\n",
      "eletrônicos       1\n",
      "milhõesCaixas     1\n",
      "350               1\n",
      "2010              1\n",
      "Length: 393, dtype: int64\n"
     ]
    }
   ],
   "source": [
    "def cleanup(text):\n",
    "    \"\"\"\n",
    "        Função de limpeza muito simples que troca alguns sinais básicos por espaços\n",
    "    \"\"\"\n",
    "    #import string\n",
    "    punctuation = '[!-.:?;]' # Note que os sinais [] são delimitadores de um conjunto.\n",
    "    pattern = re.compile(punctuation)\n",
    "    text_subbed = re.sub(pattern, '', text)\n",
    "    #text_subbed = re.sub('(\\s+)(de|em|do|para)(\\s+)','\\1\\3',text_subbed)\n",
    "    return text_subbed\n",
    "\n",
    "train_0 = train.loc[train[\"Target\"] == 0,:]\n",
    "train_1 = train.loc[train[\"Target\"] == 1,:]\n",
    "train_2 = train.loc[train[\"Target\"] == 2,:]\n",
    "\n",
    "train_0_titulos = ''\n",
    "for palavra in train_0.Titulo:\n",
    "    train_0_titulos += palavra\n",
    "train_0_titulos = cleanup(train_0_titulos).split()\n",
    "train_0_titulos\n",
    "\n",
    "train_1_titulos = ''\n",
    "for palavra in train_1.Titulo:\n",
    "    train_1_titulos += palavra\n",
    "train_1_titulos = cleanup(train_1_titulos).split()\n",
    "\n",
    "\n",
    "train_2_titulos = ''\n",
    "for palavra in train_2.Titulo:\n",
    "    train_2_titulos += palavra\n",
    "train_2_titulos = cleanup(train_2_titulos).split()\n",
    "\n",
    "\n",
    "\n",
    "serie_train_0_titulos = pd.Series(train_0_titulos)\n",
    "serie_train_1_titulos = pd.Series(train_1_titulos)\n",
    "serie_train_2_titulos = pd.Series(train_2_titulos)\n",
    "\n",
    "print(serie_train_0_titulos.value_counts(),\"\\n\")\n",
    "print(serie_train_1_titulos.value_counts(),'\\n')\n",
    "print(serie_train_2_titulos.value_counts())"
   ]
  },
  {
   "cell_type": "code",
   "execution_count": 14,
   "metadata": {},
   "outputs": [
    {
     "name": "stdout",
     "output_type": "stream",
     "text": [
      "de                   0.082133\n",
      "criptomoedas         0.048991\n",
      "para                 0.024135\n",
      "e                    0.024135\n",
      "do                   0.023055\n",
      "                       ...   \n",
      "novas                0.000360\n",
      "criptomoedasPreso    0.000360\n",
      "PF                   0.000360\n",
      "tráfico              0.000360\n",
      "Plenário             0.000360\n",
      "Length: 1208, dtype: float64 \n",
      "\n",
      "de                       0.064397\n",
      "criptomoedas             0.047838\n",
      "e                        0.033119\n",
      "em                       0.029439\n",
      "do                       0.023919\n",
      "                           ...   \n",
      "Libertadores             0.000920\n",
      "patrocinar               0.000920\n",
      "criptomoedasCorretora    0.000920\n",
      "pagar                    0.000920\n",
      "baixa                    0.000920\n",
      "Length: 551, dtype: float64 \n",
      "\n",
      "de               0.074896\n",
      "criptomoedas     0.045770\n",
      "a                0.024965\n",
      "em               0.023578\n",
      "e                0.020804\n",
      "                   ...   \n",
      "desativados      0.001387\n",
      "eletrônicos      0.001387\n",
      "milhõesCaixas    0.001387\n",
      "350              0.001387\n",
      "2010             0.001387\n",
      "Length: 393, dtype: float64\n"
     ]
    }
   ],
   "source": [
    "tabela_absoluto_train_0 = serie_train_0_titulos.value_counts()\n",
    "tabela_absoluto_train_1 = serie_train_1_titulos.value_counts()\n",
    "tabela_absoluto_train_2 = serie_train_2_titulos.value_counts()\n",
    "\n",
    "tabela_relativa_train_0 = serie_train_0_titulos.value_counts(True)\n",
    "tabela_relativa_train_1 = serie_train_1_titulos.value_counts(True)\n",
    "tabela_relativa_train_2 = serie_train_2_titulos.value_counts(True)\n",
    "print(tabela_relativa_train_0,\"\\n\")\n",
    "print(tabela_relativa_train_1,\"\\n\")\n",
    "print(tabela_relativa_train_2)"
   ]
  },
  {
   "cell_type": "code",
   "execution_count": 15,
   "metadata": {},
   "outputs": [
    {
     "name": "stdout",
     "output_type": "stream",
     "text": [
      "0.7186124773492104 \n",
      " 0.28138752265078953 \n",
      " 0.18664250582448874\n",
      "1.1866425058244887\n"
     ]
    }
   ],
   "source": [
    "portugues = train_0_titulos + train_1_titulos + train_2_titulos\n",
    "serie_portugues = pd.Series(portugues)\n",
    "tabela_portugues_relativa = serie_portugues.value_counts\n",
    "portugues_soma = tabela_absoluto_train_1.sum() + tabela_absoluto_train_0.sum()\n",
    "prob0 = tabela_absoluto_train_0.sum()/portugues_soma\n",
    "prob1 = tabela_absoluto_train_1.sum()/portugues_soma\n",
    "prob2 = tabela_absoluto_train_2.sum()/portugues_soma\n",
    "print(prob0,\"\\n\",prob1, '\\n', prob2)\n",
    "print(prob0 + prob1 + prob2)"
   ]
  },
  {
   "cell_type": "code",
   "execution_count": null,
   "metadata": {},
   "outputs": [],
   "source": [
    "probFraseDado0 = 1\n",
    "probFraseDado1 = 1\n",
    "prob_frase = tabela_portugues_relativa\n",
    "frase_lista = frase.split()\n",
    "\n",
    "for palavra in frase_lista:\n",
    "    probFraseDado1 = probFraseDado1 * tabela_relativa_train_1[palavra]\n",
    "    probFraseDado0 = probFraseDado0 * tabela_relativa_train_0[palavra]\n",
    "print(probFraseDado1)\n",
    "print(probFraseDado0)"
   ]
  },
  {
   "cell_type": "markdown",
   "metadata": {},
   "source": [
    "___\n",
    "### Verificando a performance do Classificador\n",
    "\n",
    "Agora você deve testar o seu classificador com a base de Testes."
   ]
  },
  {
   "cell_type": "code",
   "execution_count": null,
   "metadata": {},
   "outputs": [],
   "source": []
  },
  {
   "cell_type": "code",
   "execution_count": null,
   "metadata": {},
   "outputs": [],
   "source": []
  },
  {
   "cell_type": "code",
   "execution_count": null,
   "metadata": {},
   "outputs": [],
   "source": []
  },
  {
   "cell_type": "markdown",
   "metadata": {},
   "source": [
    "___\n",
    "### Concluindo"
   ]
  },
  {
   "cell_type": "code",
   "execution_count": null,
   "metadata": {},
   "outputs": [],
   "source": []
  },
  {
   "cell_type": "code",
   "execution_count": null,
   "metadata": {},
   "outputs": [],
   "source": []
  },
  {
   "cell_type": "code",
   "execution_count": null,
   "metadata": {},
   "outputs": [],
   "source": []
  },
  {
   "cell_type": "markdown",
   "metadata": {},
   "source": [
    "___\n",
    "### Qualidade do Classificador a partir de novas separações das notícias entre Treinamento e Teste\n",
    "\n",
    "Caso for fazer esse item do Projeto"
   ]
  },
  {
   "cell_type": "code",
   "execution_count": null,
   "metadata": {},
   "outputs": [],
   "source": []
  },
  {
   "cell_type": "code",
   "execution_count": null,
   "metadata": {},
   "outputs": [],
   "source": []
  },
  {
   "cell_type": "code",
   "execution_count": null,
   "metadata": {},
   "outputs": [],
   "source": []
  },
  {
   "attachments": {},
   "cell_type": "markdown",
   "metadata": {},
   "source": [
    "___\n",
    "## Aperfeiçoamento:\n",
    "\n",
    "Trabalhos que conseguirem pelo menos conceito B vão evoluir em conceito dependendo da quantidade de itens avançados:\n",
    "\n",
    "* IMPLEMENTOU outras limpezas e transformações que não afetem a qualidade da informação contida nas notícias. Ex: stemming, lemmatization, stopwords\n",
    "* CONSIDEROU mais de duas caterogias na variável Target e INCREMENTOU a quantidade de notícias, mantendo pelo menos 250 notícias por caterogia (OBRIGATÓRIO PARA TRIOS, sem contar como item avançado)\n",
    "* Para Target com duas categorias: CRIOU pelo menos quatro categorias intermediárias de relevância baseadas na probabilidade: ex.: muito relevante, relevante, neutro, irrelevante, muito irrelevante\n",
    "* EXPLICOU porquê não pode usar o próprio classificador para gerar mais amostras de treinamento\n",
    "* PROPÔS diferentes cenários para Naïve Bayes fora do contexto do projeto (pelo menos dois cenários, exceto aqueles já apresentados em sala pelos professores: por exemplo, filtro de spam)\n",
    "* SUGERIU e EXPLICOU melhorias reais com indicações concretas de como implementar (indicar como fazer e indicar material de pesquisa)\n",
    "* FEZ o item Qualidade do Classificador a partir de novas separações das Notícias entre Treinamento e Teste descrito no enunciado do projeto (OBRIGATÓRIO para conceitos A ou A+)"
   ]
  },
  {
   "cell_type": "markdown",
   "metadata": {},
   "source": [
    "___\n",
    "## Referências"
   ]
  },
  {
   "cell_type": "markdown",
   "metadata": {},
   "source": [
    "[Naive Bayes and Text Classification](https://arxiv.org/pdf/1410.5329.pdf)  **Mais completo**\n",
    "\n",
    "[A practical explanation of a Naive Bayes Classifier](https://monkeylearn.com/blog/practical-explanation-naive-bayes-classifier/) **Mais simples**"
   ]
  },
  {
   "cell_type": "code",
   "execution_count": null,
   "metadata": {},
   "outputs": [],
   "source": []
  }
 ],
 "metadata": {
  "kernelspec": {
   "display_name": "Python 3.9.13 64-bit (microsoft store)",
   "language": "python",
   "name": "python3"
  },
  "language_info": {
   "codemirror_mode": {
    "name": "ipython",
    "version": 3
   },
   "file_extension": ".py",
   "mimetype": "text/x-python",
   "name": "python",
   "nbconvert_exporter": "python",
   "pygments_lexer": "ipython3",
   "version": "3.9.13"
  },
  "vscode": {
   "interpreter": {
    "hash": "3c7491a141668a7f8248634d0e3993501b6688345b3864e2edd13cd65530f304"
   }
  }
 },
 "nbformat": 4,
 "nbformat_minor": 4
}
