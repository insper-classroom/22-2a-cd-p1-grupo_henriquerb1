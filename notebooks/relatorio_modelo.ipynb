{
 "cells": [
  {
   "cell_type": "markdown",
   "metadata": {},
   "source": [
    "# Projeto 1 - Ciência dos Dados"
   ]
  },
  {
   "cell_type": "markdown",
   "metadata": {},
   "source": [
    "Nome: Henrique Rocha Bomfim\n",
    "\n",
    "Nome: Nicholas Morales Balkins"
   ]
  },
  {
   "cell_type": "markdown",
   "metadata": {},
   "source": [
    "Atenção: Serão permitidos grupos de três pessoas, mas com uma rubrica mais exigente. Grupos deste tamanho precisarão fazer um questionário de avaliação de trabalho em equipe"
   ]
  },
  {
   "cell_type": "markdown",
   "metadata": {},
   "source": [
    "___\n",
    "Carregando algumas bibliotecas:"
   ]
  },
  {
   "cell_type": "code",
   "execution_count": 92,
   "metadata": {},
   "outputs": [],
   "source": [
    "import pandas as pd\n",
    "import numpy as np\n",
    "import os\n",
    "import re"
   ]
  },
  {
   "cell_type": "code",
   "execution_count": 93,
   "metadata": {
    "scrolled": false
   },
   "outputs": [
    {
     "name": "stdout",
     "output_type": "stream",
     "text": [
      "Esperamos trabalhar no diretório\n",
      "c:\\Users\\Henri\\Documents\\Insper\\Ciência de Dados\\Projeto 1\\22-2a-cd-p1-grupo_henriquerb1\\data\n"
     ]
    }
   ],
   "source": [
    "print('Esperamos trabalhar no diretório')\n",
    "print(os.getcwd())\n",
    "\n",
    "os.chdir(\"..\\data\")"
   ]
  },
  {
   "cell_type": "markdown",
   "metadata": {},
   "source": [
    "Carregando a base de dados com as notícias classificadas manualmente:"
   ]
  },
  {
   "cell_type": "code",
   "execution_count": 94,
   "metadata": {},
   "outputs": [],
   "source": [
    "filename = 'dados.xlsx'"
   ]
  },
  {
   "cell_type": "code",
   "execution_count": 95,
   "metadata": {},
   "outputs": [
    {
     "data": {
      "text/html": [
       "<div>\n",
       "<style scoped>\n",
       "    .dataframe tbody tr th:only-of-type {\n",
       "        vertical-align: middle;\n",
       "    }\n",
       "\n",
       "    .dataframe tbody tr th {\n",
       "        vertical-align: top;\n",
       "    }\n",
       "\n",
       "    .dataframe thead th {\n",
       "        text-align: right;\n",
       "    }\n",
       "</style>\n",
       "<table border=\"1\" class=\"dataframe\">\n",
       "  <thead>\n",
       "    <tr style=\"text-align: right;\">\n",
       "      <th></th>\n",
       "      <th>Titulo</th>\n",
       "      <th>Descrição</th>\n",
       "      <th>Pagina</th>\n",
       "      <th>Target</th>\n",
       "    </tr>\n",
       "  </thead>\n",
       "  <tbody>\n",
       "    <tr>\n",
       "      <th>0</th>\n",
       "      <td>Ucrânia oferece recompensa “generosa” para que...</td>\n",
       "      <td>A Ucrânia está de olho nas carteiras de cripto...</td>\n",
       "      <td>68</td>\n",
       "      <td>0</td>\n",
       "    </tr>\n",
       "    <tr>\n",
       "      <th>1</th>\n",
       "      <td>Só 12,9% da oferta disponível de bitcoin no me...</td>\n",
       "      <td>Conforme o preço do bitcoin (BTC) continua sub...</td>\n",
       "      <td>100</td>\n",
       "      <td>2</td>\n",
       "    </tr>\n",
       "    <tr>\n",
       "      <th>2</th>\n",
       "      <td>Presidente do Paraguai veta lei que regula as ...</td>\n",
       "      <td>O presidente do Paraguai, Mario Abdo Benítez, ...</td>\n",
       "      <td>4</td>\n",
       "      <td>2</td>\n",
       "    </tr>\n",
       "    <tr>\n",
       "      <th>3</th>\n",
       "      <td>Corretora de criptomoedas Coinbase vai entrar ...</td>\n",
       "      <td>A Coinbase, a maior corretora de criptomoedas ...</td>\n",
       "      <td>5</td>\n",
       "      <td>0</td>\n",
       "    </tr>\n",
       "    <tr>\n",
       "      <th>4</th>\n",
       "      <td>Por que criptomoedas e esports estão cada vez ...</td>\n",
       "      <td>Quando a corretora de criptomoedas FTX anuncio...</td>\n",
       "      <td>13</td>\n",
       "      <td>1</td>\n",
       "    </tr>\n",
       "  </tbody>\n",
       "</table>\n",
       "</div>"
      ],
      "text/plain": [
       "                                              Titulo  \\\n",
       "0  Ucrânia oferece recompensa “generosa” para que...   \n",
       "1  Só 12,9% da oferta disponível de bitcoin no me...   \n",
       "2  Presidente do Paraguai veta lei que regula as ...   \n",
       "3  Corretora de criptomoedas Coinbase vai entrar ...   \n",
       "4  Por que criptomoedas e esports estão cada vez ...   \n",
       "\n",
       "                                           Descrição  Pagina  Target  \n",
       "0  A Ucrânia está de olho nas carteiras de cripto...      68       0  \n",
       "1  Conforme o preço do bitcoin (BTC) continua sub...     100       2  \n",
       "2  O presidente do Paraguai, Mario Abdo Benítez, ...       4       2  \n",
       "3  A Coinbase, a maior corretora de criptomoedas ...       5       0  \n",
       "4  Quando a corretora de criptomoedas FTX anuncio...      13       1  "
      ]
     },
     "execution_count": 95,
     "metadata": {},
     "output_type": "execute_result"
    }
   ],
   "source": [
    "train = pd.read_excel(filename, sheet_name = 'Treinamento')\n",
    "train.head(5)"
   ]
  },
  {
   "cell_type": "code",
   "execution_count": 96,
   "metadata": {},
   "outputs": [
    {
     "data": {
      "text/html": [
       "<div>\n",
       "<style scoped>\n",
       "    .dataframe tbody tr th:only-of-type {\n",
       "        vertical-align: middle;\n",
       "    }\n",
       "\n",
       "    .dataframe tbody tr th {\n",
       "        vertical-align: top;\n",
       "    }\n",
       "\n",
       "    .dataframe thead th {\n",
       "        text-align: right;\n",
       "    }\n",
       "</style>\n",
       "<table border=\"1\" class=\"dataframe\">\n",
       "  <thead>\n",
       "    <tr style=\"text-align: right;\">\n",
       "      <th></th>\n",
       "      <th>Titulo</th>\n",
       "      <th>Descrição</th>\n",
       "      <th>Pagina</th>\n",
       "      <th>Target</th>\n",
       "    </tr>\n",
       "  </thead>\n",
       "  <tbody>\n",
       "    <tr>\n",
       "      <th>355</th>\n",
       "      <td>Corretora de criptomoedas de Hong Kong trava s...</td>\n",
       "      <td>Notícias de exchanges em queda continuam chega...</td>\n",
       "      <td>83</td>\n",
       "      <td>2</td>\n",
       "    </tr>\n",
       "    <tr>\n",
       "      <th>356</th>\n",
       "      <td>BNB cai 7% após EUA anunciarem investigação so...</td>\n",
       "      <td>A criptomoeda Binance Coin (BNB) mostra uma de...</td>\n",
       "      <td>34</td>\n",
       "      <td>2</td>\n",
       "    </tr>\n",
       "    <tr>\n",
       "      <th>357</th>\n",
       "      <td>PM de Goiás prende homem que vendia equipament...</td>\n",
       "      <td>Um homem de 21 anos foi preso no início da sem...</td>\n",
       "      <td>62</td>\n",
       "      <td>2</td>\n",
       "    </tr>\n",
       "    <tr>\n",
       "      <th>358</th>\n",
       "      <td>G20 fará proposta para regulamentar criptomoed...</td>\n",
       "      <td>O Comitê de Estabilidade Financeira (ou FSB, n...</td>\n",
       "      <td>22</td>\n",
       "      <td>1</td>\n",
       "    </tr>\n",
       "    <tr>\n",
       "      <th>359</th>\n",
       "      <td>Manhã cripto: Criptomoedas em queda, expectati...</td>\n",
       "      <td>O mercado de criptomoedas amanhece no vermelho...</td>\n",
       "      <td>62</td>\n",
       "      <td>0</td>\n",
       "    </tr>\n",
       "  </tbody>\n",
       "</table>\n",
       "</div>"
      ],
      "text/plain": [
       "                                                Titulo  \\\n",
       "355  Corretora de criptomoedas de Hong Kong trava s...   \n",
       "356  BNB cai 7% após EUA anunciarem investigação so...   \n",
       "357  PM de Goiás prende homem que vendia equipament...   \n",
       "358  G20 fará proposta para regulamentar criptomoed...   \n",
       "359  Manhã cripto: Criptomoedas em queda, expectati...   \n",
       "\n",
       "                                             Descrição  Pagina  Target  \n",
       "355  Notícias de exchanges em queda continuam chega...      83       2  \n",
       "356  A criptomoeda Binance Coin (BNB) mostra uma de...      34       2  \n",
       "357  Um homem de 21 anos foi preso no início da sem...      62       2  \n",
       "358  O Comitê de Estabilidade Financeira (ou FSB, n...      22       1  \n",
       "359  O mercado de criptomoedas amanhece no vermelho...      62       0  "
      ]
     },
     "execution_count": 96,
     "metadata": {},
     "output_type": "execute_result"
    }
   ],
   "source": [
    "test = pd.read_excel(filename, sheet_name = 'Teste')\n",
    "test.tail(5)"
   ]
  },
  {
   "cell_type": "markdown",
   "metadata": {},
   "source": [
    "___\n",
    "## Classificador automático\n"
   ]
  },
  {
   "cell_type": "markdown",
   "metadata": {},
   "source": [
    "Faça aqui uma descrição do seu assunto e o que considerou como relevante ou não relevante na classificação das notícias (Target).\n",
    "\n",
    "Criptomoedas -> Se foi aderida para algum processo ou não, e se não se aplica à notícia."
   ]
  },
  {
   "cell_type": "markdown",
   "metadata": {},
   "source": [
    "___\n",
    "### Montando um Classificador Naive-Bayes\n",
    "\n",
    "Considerando apenas as mensagens da planilha Treinamento, ensine  seu classificador."
   ]
  },
  {
   "cell_type": "code",
   "execution_count": 97,
   "metadata": {},
   "outputs": [],
   "source": [
    "def cleanup(text):\n",
    "    \"\"\"\n",
    "        Função de limpeza muito simples que troca alguns sinais básicos por espaços\n",
    "    \"\"\"\n",
    "    #import string\n",
    "    punctuation = '[!-.:?;]' # Note que os sinais [] são delimitadores de um conjunto.\n",
    "    pattern = re.compile(punctuation)\n",
    "    text_subbed = re.sub(pattern, '', text)\n",
    "    text_subbed = re.sub('(\\s+)(de|em|do|para|e|da|que|com|a|no|das|dos|nos)(\\s+)',' ',text_subbed)\n",
    "    return text_subbed\n",
    "\n",
    "train_titulo = train.Titulo\n",
    "test_titulo = test.Titulo\n",
    "\n",
    "train_0 = train.loc[train[\"Target\"] == 0,:]\n",
    "train_1 = train.loc[train[\"Target\"] == 1,:]\n",
    "train_2 = train.loc[train[\"Target\"] == 2,:]\n",
    "\n",
    "train_0_titulos = ''\n",
    "for palavra in train_0.Titulo:\n",
    "    train_0_titulos += palavra\n",
    "train_0_titulos = cleanup(train_0_titulos).split()\n",
    "train_0_titulos\n",
    "\n",
    "train_1_titulos = ''\n",
    "for palavra in train_1.Titulo:\n",
    "    train_1_titulos += palavra\n",
    "train_1_titulos = cleanup(train_1_titulos).split()\n",
    "\n",
    "train_2_titulos = ''\n",
    "for palavra in train_2.Titulo:\n",
    "    train_2_titulos += palavra\n",
    "train_2_titulos = cleanup(train_2_titulos).split()\n",
    "\n",
    "serie_train_0_titulos = pd.Series(train_0_titulos)\n",
    "serie_train_1_titulos = pd.Series(train_1_titulos)\n",
    "serie_train_2_titulos = pd.Series(train_2_titulos)"
   ]
  },
  {
   "cell_type": "code",
   "execution_count": 98,
   "metadata": {},
   "outputs": [
    {
     "name": "stdout",
     "output_type": "stream",
     "text": [
      "criptomoedas         0.067028\n",
      "o                    0.009364\n",
      "sobre                0.008871\n",
      "é                    0.008379\n",
      "por                  0.008379\n",
      "                       ...   \n",
      "novas                0.000493\n",
      "criptomoedasPreso    0.000493\n",
      "PF                   0.000493\n",
      "tráfico              0.000493\n",
      "Plenário             0.000493\n",
      "Length: 1197, dtype: float64 \n",
      "\n",
      "criptomoedas             0.063260\n",
      "mais                     0.015815\n",
      "US                       0.015815\n",
      "mercado                  0.015815\n",
      "o                        0.013382\n",
      "                           ...   \n",
      "Libertadores             0.001217\n",
      "patrocinar               0.001217\n",
      "criptomoedasCorretora    0.001217\n",
      "pagar                    0.001217\n",
      "baixa                    0.001217\n",
      "Length: 539, dtype: float64 \n",
      "\n",
      "criptomoedas      0.060219\n",
      "US                0.014599\n",
      "mercado           0.014599\n",
      "criptomoeda       0.012774\n",
      "o                 0.010949\n",
      "                    ...   \n",
      "SingapuraPreço    0.001825\n",
      "desativados       0.001825\n",
      "eletrônicos       0.001825\n",
      "milhõesCaixas     0.001825\n",
      "2010              0.001825\n",
      "Length: 382, dtype: float64\n"
     ]
    }
   ],
   "source": [
    "tabela_absoluto_train_0 = serie_train_0_titulos.value_counts()\n",
    "tabela_absoluto_train_1 = serie_train_1_titulos.value_counts()\n",
    "tabela_absoluto_train_2 = serie_train_2_titulos.value_counts()\n",
    "\n",
    "tabela_relativa_train_0 = serie_train_0_titulos.value_counts(True)\n",
    "tabela_relativa_train_1 = serie_train_1_titulos.value_counts(True)\n",
    "tabela_relativa_train_2 = serie_train_2_titulos.value_counts(True)\n",
    "print(tabela_relativa_train_0,\"\\n\")\n",
    "print(tabela_relativa_train_1,\"\\n\")\n",
    "print(tabela_relativa_train_2)"
   ]
  },
  {
   "cell_type": "code",
   "execution_count": 99,
   "metadata": {},
   "outputs": [
    {
     "name": "stdout",
     "output_type": "stream",
     "text": [
      "0.596940276551927 \n",
      " 0.2418358340688438 \n",
      " 0.16122388937922918\n",
      "1.0\n"
     ]
    }
   ],
   "source": [
    "portugues = train_0_titulos + train_1_titulos + train_2_titulos\n",
    "serie_portugues = pd.Series(portugues)\n",
    "tabela_portugues_relativa = serie_portugues.value_counts\n",
    "portugues_soma = tabela_absoluto_train_2.sum() + tabela_absoluto_train_1.sum() + tabela_absoluto_train_0.sum()\n",
    "prob0 = tabela_absoluto_train_0.sum()/portugues_soma\n",
    "prob1 = tabela_absoluto_train_1.sum()/portugues_soma\n",
    "prob2 = tabela_absoluto_train_2.sum()/portugues_soma\n",
    "print(prob0,\"\\n\",prob1, '\\n', prob2)\n",
    "print(prob0 + prob1 + prob2)"
   ]
  },
  {
   "cell_type": "code",
   "execution_count": 100,
   "metadata": {},
   "outputs": [
    {
     "data": {
      "text/plain": [
       "6.09257092080452e-15"
      ]
     },
     "execution_count": 100,
     "metadata": {},
     "output_type": "execute_result"
    }
   ],
   "source": [
    "prob_frase = tabela_portugues_relativa\n",
    "frase = ''\n",
    "a = 0\n",
    "for i in range(len(train)): #len(train)\n",
    "    frase = train_titulo[i]\n",
    "    frase_lista = frase.split()\n",
    "\n",
    "    probFraseDado0 = 1\n",
    "    probFraseDado1 = 1\n",
    "    probFraseDado2 = 1\n",
    "\n",
    "    for palavra in frase_lista:\n",
    "        if palavra in tabela_relativa_train_2:\n",
    "            probFraseDado2 = probFraseDado2 * tabela_relativa_train_2[palavra]\n",
    "      \n",
    "        if palavra in tabela_relativa_train_1:\n",
    "            probFraseDado1 = probFraseDado1 * tabela_relativa_train_1[palavra]\n",
    "\n",
    "        if palavra in tabela_relativa_train_0:\n",
    "            probFraseDado0 = probFraseDado0 * tabela_relativa_train_0[palavra]\n",
    "\n",
    "probFraseDado0\n",
    "probFraseDado1\n",
    "probFraseDado2"
   ]
  },
  {
   "cell_type": "markdown",
   "metadata": {},
   "source": [
    "___\n",
    "### Verificando a performance do Classificador\n",
    "\n",
    "Agora você deve testar o seu classificador com a base de Testes."
   ]
  },
  {
   "cell_type": "code",
   "execution_count": 101,
   "metadata": {},
   "outputs": [],
   "source": [
    "teste_titulo = test.Titulo\n",
    "test_0 = test.loc[test[\"Target\"] == 0,:]\n",
    "test_1 = test.loc[test[\"Target\"] == 1,:]\n",
    "test_2 = test.loc[test[\"Target\"] == 2,:]\n",
    "\n",
    "test_0_titulos = ''\n",
    "for palavra in test_0.Titulo:\n",
    "    test_0_titulos += palavra\n",
    "test_0_titulos = cleanup(test_0_titulos).split()\n",
    "\n",
    "test_1_titulos = ''\n",
    "for palavra in test_1.Titulo:\n",
    "    test_1_titulos += palavra\n",
    "test_1_titulos = cleanup(test_1_titulos).split()\n",
    "\n",
    "test_2_titulos = ''\n",
    "for palavra in test_2.Titulo:\n",
    "    test_2_titulos += palavra\n",
    "test_2_titulos = cleanup(test_2_titulos).split()\n",
    "\n",
    "serie_test_0_titulos = pd.Series(test_0_titulos)\n",
    "serie_test_1_titulos = pd.Series(test_1_titulos)\n",
    "serie_test_2_titulos = pd.Series(test_2_titulos)"
   ]
  },
  {
   "cell_type": "code",
   "execution_count": 102,
   "metadata": {},
   "outputs": [
    {
     "name": "stdout",
     "output_type": "stream",
     "text": [
      "criptomoedas    0.059701\n",
      "o               0.016681\n",
      "na              0.010536\n",
      "mais            0.009658\n",
      "sobre           0.008780\n",
      "                  ...   \n",
      "estuda          0.000878\n",
      "impedir         0.000878\n",
      "Rússia          0.000878\n",
      "fugir           0.000878\n",
      "Binance         0.000878\n",
      "Length: 760, dtype: float64 \n",
      "\n",
      "criptomoedas      0.069641\n",
      "na                0.014146\n",
      "Bitcoin           0.013058\n",
      "mercado           0.013058\n",
      "o                 0.013058\n",
      "                    ...   \n",
      "metaverso         0.001088\n",
      "20Coinbase        0.001088\n",
      "todas             0.001088\n",
      "semanaCoinbase    0.001088\n",
      "outubro           0.001088\n",
      "Length: 561, dtype: float64 \n",
      "\n",
      "criptomoedas    0.066492\n",
      "US              0.009624\n",
      "criptomoeda     0.009624\n",
      "mercado         0.008749\n",
      "milhões         0.008749\n",
      "                  ...   \n",
      "acusa           0.000875\n",
      "Celsius         0.000875\n",
      "manipular       0.000875\n",
      "CEL             0.000875\n",
      "roubados        0.000875\n",
      "Length: 727, dtype: float64\n"
     ]
    }
   ],
   "source": [
    "tabela_absoluto_test_0 = serie_test_0_titulos.value_counts()\n",
    "tabela_absoluto_test_1 = serie_test_1_titulos.value_counts()\n",
    "tabela_absoluto_test_2 = serie_test_2_titulos.value_counts()\n",
    "\n",
    "tabela_relativa_test_0 = serie_test_0_titulos.value_counts(True)\n",
    "tabela_relativa_test_1 = serie_test_1_titulos.value_counts(True)\n",
    "tabela_relativa_test_2 = serie_test_2_titulos.value_counts(True)\n",
    "print(tabela_relativa_test_0,\"\\n\")\n",
    "print(tabela_relativa_test_1,\"\\n\")\n",
    "print(tabela_relativa_test_2)"
   ]
  },
  {
   "cell_type": "code",
   "execution_count": 103,
   "metadata": {},
   "outputs": [
    {
     "name": "stdout",
     "output_type": "stream",
     "text": [
      "0.3558263042799125 \n",
      " 0.2870977819431428 \n",
      " 0.3570759137769447\n",
      "1.0\n"
     ]
    }
   ],
   "source": [
    "portugues = test_0_titulos + test_1_titulos + test_2_titulos\n",
    "serie_portugues = pd.Series(portugues)\n",
    "tabela_portugues_relativa = serie_portugues.value_counts\n",
    "portugues_soma = tabela_absoluto_test_2.sum() + tabela_absoluto_test_1.sum() + tabela_absoluto_test_0.sum()\n",
    "prob0 = tabela_absoluto_test_0.sum()/portugues_soma\n",
    "prob1 = tabela_absoluto_test_1.sum()/portugues_soma\n",
    "prob2 = tabela_absoluto_test_2.sum()/portugues_soma\n",
    "print(prob0,\"\\n\",prob1, '\\n', prob2)\n",
    "print(prob0 + prob1 + prob2)"
   ]
  },
  {
   "cell_type": "code",
   "execution_count": 104,
   "metadata": {},
   "outputs": [
    {
     "name": "stdout",
     "output_type": "stream",
     "text": [
      "[0, 1, 0, 1, 0, 1, 0, 1, 1, 0, 1, 1, 0, 1, 1, 2, 0, 1, 1, 2, 1, 1, 0, 0, 0, 0, 1, 1, 2, 1, 1, 1, 1, 0, 0, 1, 1, 0, 0, 2, 0, 1, 2, 0, 0, 1, 0, 1, 1, 1, 1, 0, 0, 1, 0, 0, 1, 1, 0, 0, 1, 1, 1, 0, 1, 1, 1, 0, 2, 0, 0, 0, 2, 1, 1, 0, 0, 0, 1, 1, 1, 0, 1, 0, 0, 1, 2, 0, 1, 1, 0, 1, 1, 2, 1, 1, 1, 2, 1, 1, 1, 0, 0, 1, 0, 0, 0, 1, 0, 1, 1, 1, 1, 1, 1, 0, 0, 1, 1, 0, 1, 1, 2, 1, 0, 0, 1, 0, 2, 1, 2, 1, 1, 2, 1, 1, 0, 0, 1, 0, 1, 1, 1, 0, 1, 1, 1, 1, 2, 1, 1, 1, 0, 0, 1, 2, 1, 0, 1, 1, 1, 1, 0, 1, 1, 1, 1, 1, 0, 1, 0, 0, 0, 0, 1, 1, 2, 0, 2, 0, 0, 0, 1, 1, 2, 2, 1, 0, 2, 1, 0, 1, 1, 0, 0, 1, 0, 0, 0, 1, 1, 1, 0, 2, 0, 1, 1, 0, 0, 0, 0, 0, 1, 2, 1, 1, 1, 1, 1, 0, 0, 1, 1, 1, 0, 0, 0, 0, 1, 2, 0, 1, 1, 0, 1, 1, 1, 0, 1, 1, 0, 1, 1, 1, 1, 1, 0, 1, 1, 2, 0, 0, 1, 0, 1, 1, 1, 2, 1, 0, 1, 0, 1, 1, 0, 1, 1, 1, 1, 1, 1, 1, 1, 0, 1, 1, 0, 0, 1, 1, 1, 0, 1, 1, 1, 1, 1, 0, 2, 1, 1, 0, 1, 0, 1, 0, 1, 2, 1, 0, 1, 0, 1, 0, 0, 1, 0, 1, 1, 1, 0, 1, 1, 2, 2, 1, 0, 1, 1, 0, 1, 2, 1, 1, 1, 1, 2, 1, 0, 1, 0, 0, 1, 0, 0, 1, 1, 0, 0, 1, 0, 0, 2, 1, 1, 0, 1, 2, 0, 1, 1, 2, 0, 1, 1, 0, 0, 0, 0, 1]\n"
     ]
    },
    {
     "data": {
      "text/plain": [
       "0.2972222222222222"
      ]
     },
     "execution_count": 104,
     "metadata": {},
     "output_type": "execute_result"
    }
   ],
   "source": [
    "prob_frase = tabela_portugues_relativa\n",
    "\n",
    "classifautolista = []\n",
    "\n",
    "for i in range(len(test)):\n",
    "    frase = train_titulo[i]\n",
    "    frase_lista = frase.split()\n",
    "\n",
    "    probFraseDado0 = 1\n",
    "    probFraseDado1 = 1\n",
    "    probFraseDado2 = 1\n",
    "\n",
    "    for palavra in frase_lista:\n",
    "        if palavra in tabela_relativa_test_2:\n",
    "            probFraseDado2 = probFraseDado2 * tabela_relativa_test_2[palavra]\n",
    "      \n",
    "        if palavra in tabela_relativa_test_1:\n",
    "            #probFraseDado1 = (probFraseDado1) * ((tabela_relativa_test_1[palavra] * len(serie_portugues) + 1)/(tabela_relativa_test_1[palavra]*tabela_absoluto_test_1.sum()))\n",
    "            probFraseDado1 = probFraseDado1 * tabela_relativa_test_1[palavra]\n",
    "\n",
    "        if palavra in tabela_relativa_test_0:\n",
    "            #probFraseDado0 = (probFraseDado0) * ((tabela_relativa_test_0[palavra] * len(serie_portugues) + 1)/(tabela_relativa_test_0[palavra]*tabela_absoluto_test_0.sum()))\n",
    "            probFraseDado0 = probFraseDado0 * tabela_relativa_test_0[palavra]\n",
    "\n",
    "    prob0Frase = probFraseDado0*prob0\n",
    "    prob1Frase = probFraseDado1*prob1\n",
    "    prob2Frase = probFraseDado2*prob2\n",
    "\n",
    "    if prob0Frase > prob1Frase and prob0Frase > prob2Frase:\n",
    "        classifautolista.append(0)\n",
    "    elif prob1Frase > prob0Frase and prob1Frase > prob2Frase:\n",
    "        classifautolista.append(1)\n",
    "    elif prob2Frase > prob0Frase and prob2Frase > prob1Frase:\n",
    "        classifautolista.append(2)\n",
    "    \n",
    "\n",
    "print(classifautolista)\n",
    "i = 0\n",
    "acertos = 0\n",
    "\n",
    "''' Estávamos fazendo as outras medições do item 4\n",
    "quantos0manual = len(test.loc[test.Target == 0,:])\n",
    "quantos1manual = len(test.loc[test.Target == 1,:])\n",
    "quantos2manual = len(test.loc[test.Target == 2,:])'''\n",
    "\n",
    "for j in classifautolista:\n",
    "    if j == test.Target[i]:\n",
    "        acertos += 1\n",
    "    i += 1\n",
    "\n",
    "Acuracia = acertos/len(test)\n",
    "Acuracia"
   ]
  },
  {
   "cell_type": "markdown",
   "metadata": {},
   "source": [
    "___\n",
    "### Concluindo"
   ]
  },
  {
   "cell_type": "code",
   "execution_count": null,
   "metadata": {},
   "outputs": [],
   "source": [
    "#Nosso classificador não possui uma acurácia alta, porém planejamos continuar implementando ele para gerar melhores resultados. Além, acreditamos que a lógica do nosso código é condizente com o objetivo do projeto e que ele conseguiu fazer os cálculos de probabilidade e definir qual classificação daria para cada notícia."
   ]
  },
  {
   "cell_type": "code",
   "execution_count": null,
   "metadata": {},
   "outputs": [],
   "source": []
  },
  {
   "cell_type": "code",
   "execution_count": null,
   "metadata": {},
   "outputs": [],
   "source": []
  },
  {
   "cell_type": "markdown",
   "metadata": {},
   "source": [
    "___\n",
    "### Qualidade do Classificador a partir de novas separações das notícias entre Treinamento e Teste\n",
    "\n",
    "Caso for fazer esse item do Projeto"
   ]
  },
  {
   "cell_type": "code",
   "execution_count": null,
   "metadata": {},
   "outputs": [],
   "source": []
  },
  {
   "cell_type": "code",
   "execution_count": null,
   "metadata": {},
   "outputs": [],
   "source": []
  },
  {
   "cell_type": "code",
   "execution_count": null,
   "metadata": {},
   "outputs": [],
   "source": []
  },
  {
   "attachments": {},
   "cell_type": "markdown",
   "metadata": {},
   "source": [
    "___\n",
    "## Aperfeiçoamento:\n",
    "\n",
    "Trabalhos que conseguirem pelo menos conceito B vão evoluir em conceito dependendo da quantidade de itens avançados:\n",
    "\n",
    "* IMPLEMENTOU outras limpezas e transformações que não afetem a qualidade da informação contida nas notícias. Ex: stemming, lemmatization, stopwords\n",
    "* CONSIDEROU mais de duas caterogias na variável Target e INCREMENTOU a quantidade de notícias, mantendo pelo menos 250 notícias por caterogia (OBRIGATÓRIO PARA TRIOS, sem contar como item avançado)\n",
    "* Para Target com duas categorias: CRIOU pelo menos quatro categorias intermediárias de relevância baseadas na probabilidade: ex.: muito relevante, relevante, neutro, irrelevante, muito irrelevante\n",
    "* EXPLICOU porquê não pode usar o próprio classificador para gerar mais amostras de treinamento\n",
    "* PROPÔS diferentes cenários para Naïve Bayes fora do contexto do projeto (pelo menos dois cenários, exceto aqueles já apresentados em sala pelos professores: por exemplo, filtro de spam)\n",
    "* SUGERIU e EXPLICOU melhorias reais com indicações concretas de como implementar (indicar como fazer e indicar material de pesquisa)\n",
    "* FEZ o item Qualidade do Classificador a partir de novas separações das Notícias entre Treinamento e Teste descrito no enunciado do projeto (OBRIGATÓRIO para conceitos A ou A+)"
   ]
  },
  {
   "cell_type": "markdown",
   "metadata": {},
   "source": [
    "___\n",
    "## Referências"
   ]
  },
  {
   "cell_type": "markdown",
   "metadata": {},
   "source": [
    "[Naive Bayes and Text Classification](https://arxiv.org/pdf/1410.5329.pdf)  **Mais completo**\n",
    "\n",
    "[A practical explanation of a Naive Bayes Classifier](https://monkeylearn.com/blog/practical-explanation-naive-bayes-classifier/) **Mais simples**"
   ]
  },
  {
   "cell_type": "code",
   "execution_count": null,
   "metadata": {},
   "outputs": [],
   "source": []
  }
 ],
 "metadata": {
  "kernelspec": {
   "display_name": "Python 3.9.7 ('base')",
   "language": "python",
   "name": "python3"
  },
  "language_info": {
   "codemirror_mode": {
    "name": "ipython",
    "version": 3
   },
   "file_extension": ".py",
   "mimetype": "text/x-python",
   "name": "python",
   "nbconvert_exporter": "python",
   "pygments_lexer": "ipython3",
   "version": "3.9.7"
  },
  "vscode": {
   "interpreter": {
    "hash": "dea373b318a782937d084fb3418b7a6bbcbc209e4a66bf528c92d844a0b5224e"
   }
  }
 },
 "nbformat": 4,
 "nbformat_minor": 4
}
