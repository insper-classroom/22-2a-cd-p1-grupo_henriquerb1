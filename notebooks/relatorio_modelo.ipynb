{
 "cells": [
  {
   "cell_type": "markdown",
   "metadata": {},
   "source": [
    "# Projeto 1 - Ciência dos Dados"
   ]
  },
  {
   "cell_type": "markdown",
   "metadata": {},
   "source": [
    "Nome: Henrique Rocha Bomfim\n",
    "\n",
    "Nome: Nicholas Morales Balkins"
   ]
  },
  {
   "cell_type": "markdown",
   "metadata": {},
   "source": [
    "Atenção: Serão permitidos grupos de três pessoas, mas com uma rubrica mais exigente. Grupos deste tamanho precisarão fazer um questionário de avaliação de trabalho em equipe"
   ]
  },
  {
   "cell_type": "markdown",
   "metadata": {},
   "source": [
    "___\n",
    "Carregando algumas bibliotecas:"
   ]
  },
  {
   "cell_type": "code",
   "execution_count": 10,
   "metadata": {},
   "outputs": [],
   "source": [
    "%matplotlib inline\n",
    "import pandas as pd\n",
    "import matplotlib.pyplot as plt\n",
    "import numpy as np\n",
    "import os\n",
    "import re"
   ]
  },
  {
   "cell_type": "code",
   "execution_count": 6,
   "metadata": {
    "scrolled": false
   },
   "outputs": [
    {
     "name": "stdout",
     "output_type": "stream",
     "text": [
      "Esperamos trabalhar no diretório\n",
      "c:\\Users\\Henri\\Documents\\Insper\\Ciência de Dados\\Projeto 1\\22-2a-cd-p1-grupo_henriquerb1\\data\n"
     ]
    }
   ],
   "source": [
    "print('Esperamos trabalhar no diretório')\n",
    "print(os.getcwd())\n",
    "\n",
    "os.chdir(\"..\\data\")"
   ]
  },
  {
   "cell_type": "markdown",
   "metadata": {},
   "source": [
    "Carregando a base de dados com as notícias classificadas manualmente:"
   ]
  },
  {
   "cell_type": "code",
   "execution_count": 7,
   "metadata": {},
   "outputs": [],
   "source": [
    "filename = 'dados.xlsx'"
   ]
  },
  {
   "cell_type": "code",
   "execution_count": 8,
   "metadata": {},
   "outputs": [
    {
     "data": {
      "text/html": [
       "<div>\n",
       "<style scoped>\n",
       "    .dataframe tbody tr th:only-of-type {\n",
       "        vertical-align: middle;\n",
       "    }\n",
       "\n",
       "    .dataframe tbody tr th {\n",
       "        vertical-align: top;\n",
       "    }\n",
       "\n",
       "    .dataframe thead th {\n",
       "        text-align: right;\n",
       "    }\n",
       "</style>\n",
       "<table border=\"1\" class=\"dataframe\">\n",
       "  <thead>\n",
       "    <tr style=\"text-align: right;\">\n",
       "      <th></th>\n",
       "      <th>Titulo</th>\n",
       "      <th>Descrição</th>\n",
       "      <th>Pagina</th>\n",
       "      <th>Target</th>\n",
       "    </tr>\n",
       "  </thead>\n",
       "  <tbody>\n",
       "    <tr>\n",
       "      <th>0</th>\n",
       "      <td>Ucrânia oferece recompensa “generosa” para que...</td>\n",
       "      <td>A Ucrânia está de olho nas carteiras de cripto...</td>\n",
       "      <td>68</td>\n",
       "      <td>0</td>\n",
       "    </tr>\n",
       "    <tr>\n",
       "      <th>1</th>\n",
       "      <td>Só 12,9% da oferta disponível de bitcoin no me...</td>\n",
       "      <td>Conforme o preço do bitcoin (BTC) continua sub...</td>\n",
       "      <td>100</td>\n",
       "      <td>0</td>\n",
       "    </tr>\n",
       "    <tr>\n",
       "      <th>2</th>\n",
       "      <td>Presidente do Paraguai veta lei que regula as ...</td>\n",
       "      <td>O presidente do Paraguai, Mario Abdo Benítez, ...</td>\n",
       "      <td>4</td>\n",
       "      <td>0</td>\n",
       "    </tr>\n",
       "    <tr>\n",
       "      <th>3</th>\n",
       "      <td>Corretora de criptomoedas Coinbase vai entrar ...</td>\n",
       "      <td>A Coinbase, a maior corretora de criptomoedas ...</td>\n",
       "      <td>5</td>\n",
       "      <td>0</td>\n",
       "    </tr>\n",
       "    <tr>\n",
       "      <th>4</th>\n",
       "      <td>Por que criptomoedas e esports estão cada vez ...</td>\n",
       "      <td>Quando a corretora de criptomoedas FTX anuncio...</td>\n",
       "      <td>13</td>\n",
       "      <td>0</td>\n",
       "    </tr>\n",
       "  </tbody>\n",
       "</table>\n",
       "</div>"
      ],
      "text/plain": [
       "                                              Titulo  \\\n",
       "0  Ucrânia oferece recompensa “generosa” para que...   \n",
       "1  Só 12,9% da oferta disponível de bitcoin no me...   \n",
       "2  Presidente do Paraguai veta lei que regula as ...   \n",
       "3  Corretora de criptomoedas Coinbase vai entrar ...   \n",
       "4  Por que criptomoedas e esports estão cada vez ...   \n",
       "\n",
       "                                           Descrição  Pagina  Target  \n",
       "0  A Ucrânia está de olho nas carteiras de cripto...      68       0  \n",
       "1  Conforme o preço do bitcoin (BTC) continua sub...     100       0  \n",
       "2  O presidente do Paraguai, Mario Abdo Benítez, ...       4       0  \n",
       "3  A Coinbase, a maior corretora de criptomoedas ...       5       0  \n",
       "4  Quando a corretora de criptomoedas FTX anuncio...      13       0  "
      ]
     },
     "execution_count": 8,
     "metadata": {},
     "output_type": "execute_result"
    }
   ],
   "source": [
    "train = pd.read_excel(filename, sheet_name = 'Treinamento')\n",
    "train.head(5)"
   ]
  },
  {
   "cell_type": "code",
   "execution_count": 9,
   "metadata": {},
   "outputs": [
    {
     "data": {
      "text/html": [
       "<div>\n",
       "<style scoped>\n",
       "    .dataframe tbody tr th:only-of-type {\n",
       "        vertical-align: middle;\n",
       "    }\n",
       "\n",
       "    .dataframe tbody tr th {\n",
       "        vertical-align: top;\n",
       "    }\n",
       "\n",
       "    .dataframe thead th {\n",
       "        text-align: right;\n",
       "    }\n",
       "</style>\n",
       "<table border=\"1\" class=\"dataframe\">\n",
       "  <thead>\n",
       "    <tr style=\"text-align: right;\">\n",
       "      <th></th>\n",
       "      <th>Titulo</th>\n",
       "      <th>Descrição</th>\n",
       "      <th>Pagina</th>\n",
       "      <th>Target</th>\n",
       "    </tr>\n",
       "  </thead>\n",
       "  <tbody>\n",
       "    <tr>\n",
       "      <th>0</th>\n",
       "      <td>Binance libera compra de oito criptomoedas com...</td>\n",
       "      <td>A Binance liberou oito criptomoedas que agora ...</td>\n",
       "      <td>73</td>\n",
       "      <td>0</td>\n",
       "    </tr>\n",
       "    <tr>\n",
       "      <th>1</th>\n",
       "      <td>Veja qual criptomoeda pode “herdar” os minerad...</td>\n",
       "      <td>Holders de ETC, a criptomoeda da rede Ethereum...</td>\n",
       "      <td>5</td>\n",
       "      <td>0</td>\n",
       "    </tr>\n",
       "    <tr>\n",
       "      <th>2</th>\n",
       "      <td>Venezuela vai punir quem negociar criptomoedas...</td>\n",
       "      <td>Os venezuelanos que negociam criptomoedas em e...</td>\n",
       "      <td>36</td>\n",
       "      <td>0</td>\n",
       "    </tr>\n",
       "    <tr>\n",
       "      <th>3</th>\n",
       "      <td>Corretora de criptomoedas desiste de patrocina...</td>\n",
       "      <td>A corretora Crypto.com desistiu de um enorme a...</td>\n",
       "      <td>3</td>\n",
       "      <td>0</td>\n",
       "    </tr>\n",
       "    <tr>\n",
       "      <th>4</th>\n",
       "      <td>Golpistas lançam falsa criptomoeda da empresa-...</td>\n",
       "      <td>Nos últimos dias começou a circular no mercado...</td>\n",
       "      <td>71</td>\n",
       "      <td>0</td>\n",
       "    </tr>\n",
       "  </tbody>\n",
       "</table>\n",
       "</div>"
      ],
      "text/plain": [
       "                                              Titulo  \\\n",
       "0  Binance libera compra de oito criptomoedas com...   \n",
       "1  Veja qual criptomoeda pode “herdar” os minerad...   \n",
       "2  Venezuela vai punir quem negociar criptomoedas...   \n",
       "3  Corretora de criptomoedas desiste de patrocina...   \n",
       "4  Golpistas lançam falsa criptomoeda da empresa-...   \n",
       "\n",
       "                                           Descrição  Pagina  Target  \n",
       "0  A Binance liberou oito criptomoedas que agora ...      73       0  \n",
       "1  Holders de ETC, a criptomoeda da rede Ethereum...       5       0  \n",
       "2  Os venezuelanos que negociam criptomoedas em e...      36       0  \n",
       "3  A corretora Crypto.com desistiu de um enorme a...       3       0  \n",
       "4  Nos últimos dias começou a circular no mercado...      71       0  "
      ]
     },
     "execution_count": 9,
     "metadata": {},
     "output_type": "execute_result"
    }
   ],
   "source": [
    "test = pd.read_excel(filename, sheet_name = 'Teste')\n",
    "test.head(5)"
   ]
  },
  {
   "cell_type": "markdown",
   "metadata": {},
   "source": [
    "___\n",
    "## Classificador automático\n"
   ]
  },
  {
   "cell_type": "markdown",
   "metadata": {},
   "source": [
    "Faça aqui uma descrição do seu assunto e o que considerou como relevante ou não relevante na classificação das notícias (Target).\n",
    "\n",
    "Criptomoedas -> Se foi aderida para algum processo ou não, e se não se aplica à notícia."
   ]
  },
  {
   "cell_type": "markdown",
   "metadata": {},
   "source": [
    "___\n",
    "### Montando um Classificador Naive-Bayes\n",
    "\n",
    "Considerando apenas as mensagens da planilha Treinamento, ensine  seu classificador."
   ]
  },
  {
   "cell_type": "code",
   "execution_count": 34,
   "metadata": {},
   "outputs": [
    {
     "name": "stdout",
     "output_type": "stream",
     "text": [
      "de                    383\n",
      "criptomoedas          246\n",
      "em                    113\n",
      "do                    111\n",
      "para                  110\n",
      "                     ... \n",
      "Lucas                   1\n",
      "presidenteYouTuber      1\n",
      "divulgação              1\n",
      "preçoSecretária         1\n",
      "esquentar               1\n",
      "Length: 1846, dtype: int64 \n",
      "\n",
      "de                  97\n",
      "criptomoedas        61\n",
      "e                   54\n",
      "do                  33\n",
      "em                  33\n",
      "                    ..\n",
      "entra                1\n",
      "falência             1\n",
      "beira                1\n",
      "criptomoedasMais     1\n",
      "depois               1\n",
      "Length: 662, dtype: int64\n"
     ]
    }
   ],
   "source": [
    "def cleanup(text):\n",
    "    \"\"\"\n",
    "        Função de limpeza muito simples que troca alguns sinais básicos por espaços\n",
    "    \"\"\"\n",
    "    #import string\n",
    "    punctuation = '[!-.:?;]' # Note que os sinais [] são delimitadores de um conjunto.\n",
    "    pattern = re.compile(punctuation)\n",
    "    text_subbed = re.sub(pattern, '', text)\n",
    "    #text_subbed = re.sub('(\\s+)(de|em|do|para)(\\s+)','\\1\\3',text_subbed)\n",
    "    return text_subbed\n",
    "\n",
    "train_0 = train.loc[train[\"Target\"] == 0,:]\n",
    "train_1 = train.loc[train[\"Target\"] == 1,:]\n",
    "\n",
    "train_0_titulos = ''\n",
    "for palavra in train_0.Titulo:\n",
    "    train_0_titulos += palavra\n",
    "train_0_titulos = cleanup(train_0_titulos).split()\n",
    "train_0_titulos\n",
    "\n",
    "train_1_titulos = ''\n",
    "for palavra in train_1.Titulo:\n",
    "    train_1_titulos += palavra\n",
    "train_1_titulos = cleanup(train_1_titulos).split()\n",
    "\n",
    "serie_train_0_titulos = pd.Series(train_0_titulos)\n",
    "serie_train_1_titulos = pd.Series(train_1_titulos)\n",
    "\n",
    "\n",
    "print(serie_train_0_titulos.value_counts(),\"\\n\")\n",
    "print(serie_train_1_titulos.value_counts())"
   ]
  },
  {
   "cell_type": "code",
   "execution_count": 37,
   "metadata": {},
   "outputs": [
    {
     "name": "stdout",
     "output_type": "stream",
     "text": [
      "de                    0.079116\n",
      "criptomoedas          0.050816\n",
      "em                    0.023342\n",
      "do                    0.022929\n",
      "para                  0.022723\n",
      "                        ...   \n",
      "Lucas                 0.000207\n",
      "presidenteYouTuber    0.000207\n",
      "divulgação            0.000207\n",
      "preçoSecretária       0.000207\n",
      "esquentar             0.000207\n",
      "Length: 1846, dtype: float64 \n",
      "\n",
      "de                  0.065101\n",
      "criptomoedas        0.040940\n",
      "e                   0.036242\n",
      "do                  0.022148\n",
      "em                  0.022148\n",
      "                      ...   \n",
      "entra               0.000671\n",
      "falência            0.000671\n",
      "beira               0.000671\n",
      "criptomoedasMais    0.000671\n",
      "depois              0.000671\n",
      "Length: 662, dtype: float64\n"
     ]
    }
   ],
   "source": [
    "tabela_absoluto_train_0 = serie_train_0_titulos.value_counts()\n",
    "tabela_absoluto_train_1 = serie_train_1_titulos.value_counts()\n",
    "tabela_relativa_train_0 = serie_train_0_titulos.value_counts(True)\n",
    "tabela_relativa_train_1 = serie_train_1_titulos.value_counts(True)\n",
    "print(tabela_relativa_train_0,\"\\n\")\n",
    "print(tabela_relativa_train_1)"
   ]
  },
  {
   "cell_type": "code",
   "execution_count": 56,
   "metadata": {},
   "outputs": [
    {
     "name": "stdout",
     "output_type": "stream",
     "text": [
      "0.7646501342599905 \n",
      " 0.2353498657400095\n",
      "1.0\n"
     ]
    },
    {
     "data": {
      "text/plain": [
       "de                0.075817\n",
       "criptomoedas      0.048492\n",
       "e                 0.025746\n",
       "em                0.023061\n",
       "do                0.022745\n",
       "                    ...   \n",
       "autoriza          0.000158\n",
       "agostoPolícia     0.000158\n",
       "tráficoEmpresa    0.000158\n",
       "suposto           0.000158\n",
       "web3              0.000158\n",
       "Length: 2198, dtype: float64"
      ]
     },
     "execution_count": 56,
     "metadata": {},
     "output_type": "execute_result"
    }
   ],
   "source": [
    "portugues = train_0_titulos + train_1_titulos\n",
    "serie_portugues = pd.Series(portugues)\n",
    "tabela_portugues_relativa = serie_portugues.value_counts\n",
    "portugues_soma = tabela_absoluto_train_1.sum() + tabela_absoluto_train_0.sum()\n",
    "prob0 = tabela_absoluto_train_0.sum()/portugues_soma\n",
    "prob1 = tabela_absoluto_train_1.sum()/portugues_soma\n",
    "print(prob0,\"\\n\",prob1)\n",
    "print(prob0 + prob1)"
   ]
  },
  {
   "cell_type": "code",
   "execution_count": null,
   "metadata": {},
   "outputs": [],
   "source": [
    "probFraseDado0 = 1\n",
    "probFraseDado1 = 1\n",
    "prob_frase = tabela_portugues_relativa\n",
    "frase_lista = frase.split()\n",
    "\n",
    "for palavra in frase_lista:\n",
    "    probFraseDado1 = probFraseDado1 * tabela_relativa_train_1[palavra]\n",
    "    probFraseDado0 = probFraseDado0 * tabela_relativa_train_0[palavra]\n",
    "print(probFraseDado1)\n",
    "print(probFraseDado0)"
   ]
  },
  {
   "cell_type": "markdown",
   "metadata": {},
   "source": [
    "___\n",
    "### Verificando a performance do Classificador\n",
    "\n",
    "Agora você deve testar o seu classificador com a base de Testes."
   ]
  },
  {
   "cell_type": "code",
   "execution_count": null,
   "metadata": {},
   "outputs": [],
   "source": []
  },
  {
   "cell_type": "code",
   "execution_count": null,
   "metadata": {},
   "outputs": [],
   "source": []
  },
  {
   "cell_type": "code",
   "execution_count": null,
   "metadata": {},
   "outputs": [],
   "source": []
  },
  {
   "cell_type": "markdown",
   "metadata": {},
   "source": [
    "___\n",
    "### Concluindo"
   ]
  },
  {
   "cell_type": "code",
   "execution_count": null,
   "metadata": {},
   "outputs": [],
   "source": []
  },
  {
   "cell_type": "code",
   "execution_count": null,
   "metadata": {},
   "outputs": [],
   "source": []
  },
  {
   "cell_type": "code",
   "execution_count": null,
   "metadata": {},
   "outputs": [],
   "source": []
  },
  {
   "cell_type": "markdown",
   "metadata": {},
   "source": [
    "___\n",
    "### Qualidade do Classificador a partir de novas separações das notícias entre Treinamento e Teste\n",
    "\n",
    "Caso for fazer esse item do Projeto"
   ]
  },
  {
   "cell_type": "code",
   "execution_count": null,
   "metadata": {},
   "outputs": [],
   "source": []
  },
  {
   "cell_type": "code",
   "execution_count": null,
   "metadata": {},
   "outputs": [],
   "source": []
  },
  {
   "cell_type": "code",
   "execution_count": null,
   "metadata": {},
   "outputs": [],
   "source": []
  },
  {
   "attachments": {},
   "cell_type": "markdown",
   "metadata": {},
   "source": [
    "___\n",
    "## Aperfeiçoamento:\n",
    "\n",
    "Trabalhos que conseguirem pelo menos conceito B vão evoluir em conceito dependendo da quantidade de itens avançados:\n",
    "\n",
    "* IMPLEMENTOU outras limpezas e transformações que não afetem a qualidade da informação contida nas notícias. Ex: stemming, lemmatization, stopwords\n",
    "* CONSIDEROU mais de duas caterogias na variável Target e INCREMENTOU a quantidade de notícias, mantendo pelo menos 250 notícias por caterogia (OBRIGATÓRIO PARA TRIOS, sem contar como item avançado)\n",
    "* Para Target com duas categorias: CRIOU pelo menos quatro categorias intermediárias de relevância baseadas na probabilidade: ex.: muito relevante, relevante, neutro, irrelevante, muito irrelevante\n",
    "* EXPLICOU porquê não pode usar o próprio classificador para gerar mais amostras de treinamento\n",
    "* PROPÔS diferentes cenários para Naïve Bayes fora do contexto do projeto (pelo menos dois cenários, exceto aqueles já apresentados em sala pelos professores: por exemplo, filtro de spam)\n",
    "* SUGERIU e EXPLICOU melhorias reais com indicações concretas de como implementar (indicar como fazer e indicar material de pesquisa)\n",
    "* FEZ o item Qualidade do Classificador a partir de novas separações das Notícias entre Treinamento e Teste descrito no enunciado do projeto (OBRIGATÓRIO para conceitos A ou A+)"
   ]
  },
  {
   "cell_type": "markdown",
   "metadata": {},
   "source": [
    "___\n",
    "## Referências"
   ]
  },
  {
   "cell_type": "markdown",
   "metadata": {},
   "source": [
    "[Naive Bayes and Text Classification](https://arxiv.org/pdf/1410.5329.pdf)  **Mais completo**\n",
    "\n",
    "[A practical explanation of a Naive Bayes Classifier](https://monkeylearn.com/blog/practical-explanation-naive-bayes-classifier/) **Mais simples**"
   ]
  },
  {
   "cell_type": "code",
   "execution_count": null,
   "metadata": {},
   "outputs": [],
   "source": []
  }
 ],
 "metadata": {
  "kernelspec": {
   "display_name": "Python 3",
   "language": "python",
   "name": "python3"
  },
  "language_info": {
   "codemirror_mode": {
    "name": "ipython",
    "version": 3
   },
   "file_extension": ".py",
   "mimetype": "text/x-python",
   "name": "python",
   "nbconvert_exporter": "python",
   "pygments_lexer": "ipython3",
   "version": "3.8.8"
  }
 },
 "nbformat": 4,
 "nbformat_minor": 4
}
