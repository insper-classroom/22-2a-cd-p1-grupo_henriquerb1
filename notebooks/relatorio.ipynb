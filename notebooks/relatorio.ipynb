{
 "cells": [
  {
   "cell_type": "markdown",
   "metadata": {},
   "source": [
    "# Projeto 1 - Ciência dos Dados"
   ]
  },
  {
   "cell_type": "markdown",
   "metadata": {},
   "source": [
    "Nome: Henrique Rocha Bomfim\n",
    "\n",
    "Nome: Nicholas Morales Balkins"
   ]
  },
  {
   "cell_type": "markdown",
   "metadata": {},
   "source": [
    "Atenção: Serão permitidos grupos de três pessoas, mas com uma rubrica mais exigente. Grupos deste tamanho precisarão fazer um questionário de avaliação de trabalho em equipe"
   ]
  },
  {
   "cell_type": "markdown",
   "metadata": {},
   "source": [
    "___\n",
    "Carregando algumas bibliotecas:"
   ]
  },
  {
   "cell_type": "code",
   "execution_count": 1,
   "metadata": {},
   "outputs": [],
   "source": [
    "import pandas as pd\n",
    "import numpy as np\n",
    "import os\n",
    "import re"
   ]
  },
  {
   "cell_type": "code",
   "execution_count": 2,
   "metadata": {
    "scrolled": false
   },
   "outputs": [
    {
     "name": "stdout",
     "output_type": "stream",
     "text": [
      "Esperamos trabalhar no diretório\n",
      "c:\\Users\\Henri\\Documents\\Insper\\Ciência de Dados\\Projeto 1\\22-2a-cd-p1-grupo_henriquerb1\\notebooks\n"
     ]
    }
   ],
   "source": [
    "print('Esperamos trabalhar no diretório')\n",
    "print(os.getcwd())\n",
    "\n",
    "os.chdir(\"..\\data\")"
   ]
  },
  {
   "cell_type": "markdown",
   "metadata": {},
   "source": [
    "Carregando a base de dados com as notícias classificadas manualmente:"
   ]
  },
  {
   "cell_type": "code",
   "execution_count": 3,
   "metadata": {},
   "outputs": [],
   "source": [
    "filename = 'dados.xlsx'"
   ]
  },
  {
   "cell_type": "code",
   "execution_count": 4,
   "metadata": {},
   "outputs": [
    {
     "data": {
      "text/html": [
       "<div>\n",
       "<style scoped>\n",
       "    .dataframe tbody tr th:only-of-type {\n",
       "        vertical-align: middle;\n",
       "    }\n",
       "\n",
       "    .dataframe tbody tr th {\n",
       "        vertical-align: top;\n",
       "    }\n",
       "\n",
       "    .dataframe thead th {\n",
       "        text-align: right;\n",
       "    }\n",
       "</style>\n",
       "<table border=\"1\" class=\"dataframe\">\n",
       "  <thead>\n",
       "    <tr style=\"text-align: right;\">\n",
       "      <th></th>\n",
       "      <th>Titulo</th>\n",
       "      <th>Descrição</th>\n",
       "      <th>Pagina</th>\n",
       "      <th>Target</th>\n",
       "      <th>Unnamed: 4</th>\n",
       "      <th>0</th>\n",
       "      <th>1</th>\n",
       "      <th>2</th>\n",
       "    </tr>\n",
       "  </thead>\n",
       "  <tbody>\n",
       "    <tr>\n",
       "      <th>0</th>\n",
       "      <td>Ucrânia oferece recompensa “generosa” para que...</td>\n",
       "      <td>A Ucrânia está de olho nas carteiras de cripto...</td>\n",
       "      <td>68</td>\n",
       "      <td>0</td>\n",
       "      <td>NaN</td>\n",
       "      <td>273.0</td>\n",
       "      <td>144.0</td>\n",
       "      <td>123.0</td>\n",
       "    </tr>\n",
       "    <tr>\n",
       "      <th>1</th>\n",
       "      <td>Só 12,9% da oferta disponível de bitcoin no me...</td>\n",
       "      <td>Conforme o preço do bitcoin (BTC) continua sub...</td>\n",
       "      <td>100</td>\n",
       "      <td>2</td>\n",
       "      <td>NaN</td>\n",
       "      <td>NaN</td>\n",
       "      <td>NaN</td>\n",
       "      <td>NaN</td>\n",
       "    </tr>\n",
       "    <tr>\n",
       "      <th>2</th>\n",
       "      <td>Presidente do Paraguai veta lei que regula as ...</td>\n",
       "      <td>O presidente do Paraguai, Mario Abdo Benítez, ...</td>\n",
       "      <td>4</td>\n",
       "      <td>2</td>\n",
       "      <td>NaN</td>\n",
       "      <td>NaN</td>\n",
       "      <td>NaN</td>\n",
       "      <td>NaN</td>\n",
       "    </tr>\n",
       "    <tr>\n",
       "      <th>3</th>\n",
       "      <td>Corretora de criptomoedas Coinbase vai entrar ...</td>\n",
       "      <td>A Coinbase, a maior corretora de criptomoedas ...</td>\n",
       "      <td>5</td>\n",
       "      <td>0</td>\n",
       "      <td>NaN</td>\n",
       "      <td>NaN</td>\n",
       "      <td>NaN</td>\n",
       "      <td>NaN</td>\n",
       "    </tr>\n",
       "    <tr>\n",
       "      <th>4</th>\n",
       "      <td>Por que criptomoedas e esports estão cada vez ...</td>\n",
       "      <td>Quando a corretora de criptomoedas FTX anuncio...</td>\n",
       "      <td>13</td>\n",
       "      <td>1</td>\n",
       "      <td>NaN</td>\n",
       "      <td>NaN</td>\n",
       "      <td>NaN</td>\n",
       "      <td>NaN</td>\n",
       "    </tr>\n",
       "  </tbody>\n",
       "</table>\n",
       "</div>"
      ],
      "text/plain": [
       "                                              Titulo  \\\n",
       "0  Ucrânia oferece recompensa “generosa” para que...   \n",
       "1  Só 12,9% da oferta disponível de bitcoin no me...   \n",
       "2  Presidente do Paraguai veta lei que regula as ...   \n",
       "3  Corretora de criptomoedas Coinbase vai entrar ...   \n",
       "4  Por que criptomoedas e esports estão cada vez ...   \n",
       "\n",
       "                                           Descrição  Pagina  Target  \\\n",
       "0  A Ucrânia está de olho nas carteiras de cripto...      68       0   \n",
       "1  Conforme o preço do bitcoin (BTC) continua sub...     100       2   \n",
       "2  O presidente do Paraguai, Mario Abdo Benítez, ...       4       2   \n",
       "3  A Coinbase, a maior corretora de criptomoedas ...       5       0   \n",
       "4  Quando a corretora de criptomoedas FTX anuncio...      13       1   \n",
       "\n",
       "  Unnamed: 4      0      1      2  \n",
       "0        NaN  273.0  144.0  123.0  \n",
       "1        NaN    NaN    NaN    NaN  \n",
       "2        NaN    NaN    NaN    NaN  \n",
       "3        NaN    NaN    NaN    NaN  \n",
       "4        NaN    NaN    NaN    NaN  "
      ]
     },
     "execution_count": 4,
     "metadata": {},
     "output_type": "execute_result"
    }
   ],
   "source": [
    "train = pd.read_excel(filename, sheet_name = 'Treinamento')\n",
    "train.head(5)"
   ]
  },
  {
   "cell_type": "code",
   "execution_count": 5,
   "metadata": {},
   "outputs": [
    {
     "data": {
      "text/html": [
       "<div>\n",
       "<style scoped>\n",
       "    .dataframe tbody tr th:only-of-type {\n",
       "        vertical-align: middle;\n",
       "    }\n",
       "\n",
       "    .dataframe tbody tr th {\n",
       "        vertical-align: top;\n",
       "    }\n",
       "\n",
       "    .dataframe thead th {\n",
       "        text-align: right;\n",
       "    }\n",
       "</style>\n",
       "<table border=\"1\" class=\"dataframe\">\n",
       "  <thead>\n",
       "    <tr style=\"text-align: right;\">\n",
       "      <th></th>\n",
       "      <th>Titulo</th>\n",
       "      <th>Descrição</th>\n",
       "      <th>Pagina</th>\n",
       "      <th>Target</th>\n",
       "      <th>Unnamed: 4</th>\n",
       "      <th>0</th>\n",
       "      <th>1</th>\n",
       "      <th>2</th>\n",
       "    </tr>\n",
       "  </thead>\n",
       "  <tbody>\n",
       "    <tr>\n",
       "      <th>355</th>\n",
       "      <td>Corretora de criptomoedas de Hong Kong trava s...</td>\n",
       "      <td>Notícias de exchanges em queda continuam chega...</td>\n",
       "      <td>83</td>\n",
       "      <td>2</td>\n",
       "      <td>NaN</td>\n",
       "      <td>NaN</td>\n",
       "      <td>NaN</td>\n",
       "      <td>NaN</td>\n",
       "    </tr>\n",
       "    <tr>\n",
       "      <th>356</th>\n",
       "      <td>BNB cai 7% após EUA anunciarem investigação so...</td>\n",
       "      <td>A criptomoeda Binance Coin (BNB) mostra uma de...</td>\n",
       "      <td>34</td>\n",
       "      <td>2</td>\n",
       "      <td>NaN</td>\n",
       "      <td>NaN</td>\n",
       "      <td>NaN</td>\n",
       "      <td>NaN</td>\n",
       "    </tr>\n",
       "    <tr>\n",
       "      <th>357</th>\n",
       "      <td>PM de Goiás prende homem que vendia equipament...</td>\n",
       "      <td>Um homem de 21 anos foi preso no início da sem...</td>\n",
       "      <td>62</td>\n",
       "      <td>2</td>\n",
       "      <td>NaN</td>\n",
       "      <td>NaN</td>\n",
       "      <td>NaN</td>\n",
       "      <td>NaN</td>\n",
       "    </tr>\n",
       "    <tr>\n",
       "      <th>358</th>\n",
       "      <td>G20 fará proposta para regulamentar criptomoed...</td>\n",
       "      <td>O Comitê de Estabilidade Financeira (ou FSB, n...</td>\n",
       "      <td>22</td>\n",
       "      <td>0</td>\n",
       "      <td>NaN</td>\n",
       "      <td>NaN</td>\n",
       "      <td>NaN</td>\n",
       "      <td>NaN</td>\n",
       "    </tr>\n",
       "    <tr>\n",
       "      <th>359</th>\n",
       "      <td>Manhã cripto: Criptomoedas em queda, expectati...</td>\n",
       "      <td>O mercado de criptomoedas amanhece no vermelho...</td>\n",
       "      <td>62</td>\n",
       "      <td>2</td>\n",
       "      <td>NaN</td>\n",
       "      <td>NaN</td>\n",
       "      <td>NaN</td>\n",
       "      <td>NaN</td>\n",
       "    </tr>\n",
       "  </tbody>\n",
       "</table>\n",
       "</div>"
      ],
      "text/plain": [
       "                                                Titulo  \\\n",
       "355  Corretora de criptomoedas de Hong Kong trava s...   \n",
       "356  BNB cai 7% após EUA anunciarem investigação so...   \n",
       "357  PM de Goiás prende homem que vendia equipament...   \n",
       "358  G20 fará proposta para regulamentar criptomoed...   \n",
       "359  Manhã cripto: Criptomoedas em queda, expectati...   \n",
       "\n",
       "                                             Descrição  Pagina  Target  \\\n",
       "355  Notícias de exchanges em queda continuam chega...      83       2   \n",
       "356  A criptomoeda Binance Coin (BNB) mostra uma de...      34       2   \n",
       "357  Um homem de 21 anos foi preso no início da sem...      62       2   \n",
       "358  O Comitê de Estabilidade Financeira (ou FSB, n...      22       0   \n",
       "359  O mercado de criptomoedas amanhece no vermelho...      62       2   \n",
       "\n",
       "     Unnamed: 4   0   1   2  \n",
       "355         NaN NaN NaN NaN  \n",
       "356         NaN NaN NaN NaN  \n",
       "357         NaN NaN NaN NaN  \n",
       "358         NaN NaN NaN NaN  \n",
       "359         NaN NaN NaN NaN  "
      ]
     },
     "execution_count": 5,
     "metadata": {},
     "output_type": "execute_result"
    }
   ],
   "source": [
    "test = pd.read_excel(filename, sheet_name = 'Teste')\n",
    "test.tail(5)"
   ]
  },
  {
   "cell_type": "markdown",
   "metadata": {},
   "source": [
    "___\n",
    "## Classificador automático\n"
   ]
  },
  {
   "cell_type": "markdown",
   "metadata": {},
   "source": [
    "Faça aqui uma descrição do seu assunto e o que considerou como relevante ou não relevante na classificação das notícias (Target).\n",
    "\n",
    "Criptomoedas -> Se foi aderida para algum processo ou não, e se não se aplica à notícia."
   ]
  },
  {
   "cell_type": "markdown",
   "metadata": {},
   "source": [
    "___\n",
    "### Montando um Classificador Naive-Bayes\n",
    "\n",
    "Considerando apenas as mensagens da planilha Treinamento, ensine  seu classificador."
   ]
  },
  {
   "cell_type": "code",
   "execution_count": 6,
   "metadata": {},
   "outputs": [],
   "source": [
    "def cleanup(text):\n",
    "    \"\"\"\n",
    "        Função de limpeza muito simples que troca alguns sinais básicos por espaços\n",
    "    \"\"\"\n",
    "    #import string\n",
    "    punctuation = '[!-.:?;]' # Note que os sinais [] são delimitadores de um conjunto.\n",
    "    pattern = re.compile(punctuation)\n",
    "    text_subbed = re.sub(pattern, '', text)\n",
    "    text_subbed = re.sub('(\\s+)(de|em|do|para|e|da|que|com|a|no|das|dos|nos)(\\s+)',' ',text_subbed)\n",
    "    return text_subbed\n",
    "\n",
    "train_titulo = train.Titulo\n",
    "test_titulo = test.Titulo\n",
    "\n",
    "train_0 = train.loc[train[\"Target\"] == 0,:]\n",
    "train_1 = train.loc[train[\"Target\"] == 1,:]\n",
    "train_2 = train.loc[train[\"Target\"] == 2,:]\n",
    "\n",
    "train_0_titulos = ''\n",
    "for palavra in train_0.Titulo:\n",
    "    train_0_titulos += palavra\n",
    "train_0_titulos = cleanup(train_0_titulos).split()\n",
    "train_0_titulos\n",
    "\n",
    "train_1_titulos = ''\n",
    "for palavra in train_1.Titulo:\n",
    "    train_1_titulos += palavra\n",
    "train_1_titulos = cleanup(train_1_titulos).split()\n",
    "\n",
    "train_2_titulos = ''\n",
    "for palavra in train_2.Titulo:\n",
    "    train_2_titulos += palavra\n",
    "train_2_titulos = cleanup(train_2_titulos).split()\n",
    "\n",
    "serie_train_0_titulos = pd.Series(train_0_titulos)\n",
    "serie_train_1_titulos = pd.Series(train_1_titulos)\n",
    "serie_train_2_titulos = pd.Series(train_2_titulos)"
   ]
  },
  {
   "cell_type": "code",
   "execution_count": 7,
   "metadata": {},
   "outputs": [
    {
     "name": "stdout",
     "output_type": "stream",
     "text": [
      "criptomoedas          0.067702\n",
      "o                     0.010781\n",
      "sobre                 0.009487\n",
      "criptomoeda           0.009056\n",
      "é                     0.009056\n",
      "                        ...   \n",
      "presidenteYouTuber    0.000431\n",
      "Lucas                 0.000431\n",
      "Lira                  0.000431\n",
      "300                   0.000431\n",
      "esquentar             0.000431\n",
      "Length: 1324, dtype: float64 \n",
      "\n",
      "criptomoedas        0.062693\n",
      "mercado             0.015480\n",
      "criptomoeda         0.013932\n",
      "US                  0.012384\n",
      "mais                0.011610\n",
      "                      ...   \n",
      "aceitar             0.000774\n",
      "prefeitoEmpresas    0.000774\n",
      "lançam              0.000774\n",
      "curso               0.000774\n",
      "economia            0.000774\n",
      "Length: 788, dtype: float64 \n",
      "\n",
      "criptomoedas    0.062162\n",
      "US              0.013514\n",
      "na              0.010811\n",
      "criptomoeda     0.010811\n",
      "mercado         0.010811\n",
      "                  ...   \n",
      "mês             0.000901\n",
      "melhor          0.000901\n",
      "24              0.000901\n",
      "Cripto          0.000901\n",
      "Federal         0.000901\n",
      "Length: 680, dtype: float64\n"
     ]
    }
   ],
   "source": [
    "tabela_absoluto_train_0 = serie_train_0_titulos.value_counts()\n",
    "tabela_absoluto_train_1 = serie_train_1_titulos.value_counts()\n",
    "tabela_absoluto_train_2 = serie_train_2_titulos.value_counts()\n",
    "\n",
    "tabela_relativa_train_0 = serie_train_0_titulos.value_counts(True)\n",
    "tabela_relativa_train_1 = serie_train_1_titulos.value_counts(True)\n",
    "tabela_relativa_train_2 = serie_train_2_titulos.value_counts(True)\n",
    "print(tabela_relativa_train_0,\"\\n\")\n",
    "print(tabela_relativa_train_1,\"\\n\")\n",
    "print(tabela_relativa_train_2)"
   ]
  },
  {
   "cell_type": "code",
   "execution_count": 8,
   "metadata": {},
   "outputs": [
    {
     "name": "stdout",
     "output_type": "stream",
     "text": [
      "0.49120948951493326 \n",
      " 0.27367083245075197 \n",
      " 0.23511967803431477\n",
      "1.0\n"
     ]
    }
   ],
   "source": [
    "portugues = train_0_titulos + train_1_titulos + train_2_titulos\n",
    "serie_portugues = pd.Series(portugues)\n",
    "tabela_portugues_relativa = serie_portugues.value_counts\n",
    "portugues_soma = tabela_absoluto_train_2.sum() + tabela_absoluto_train_1.sum() + tabela_absoluto_train_0.sum()\n",
    "prob0 = tabela_absoluto_train_0.sum()/portugues_soma\n",
    "prob1 = tabela_absoluto_train_1.sum()/portugues_soma\n",
    "prob2 = tabela_absoluto_train_2.sum()/portugues_soma\n",
    "print(prob0,\"\\n\",prob1, '\\n', prob2)\n",
    "print(prob0 + prob1 + prob2)"
   ]
  },
  {
   "cell_type": "code",
   "execution_count": 9,
   "metadata": {},
   "outputs": [
    {
     "data": {
      "text/plain": [
       "7.348540460316526e-26"
      ]
     },
     "execution_count": 9,
     "metadata": {},
     "output_type": "execute_result"
    }
   ],
   "source": [
    "prob_frase = tabela_portugues_relativa\n",
    "frase = ''\n",
    "a = 0\n",
    "for i in range(len(train)): #len(train)\n",
    "    frase = train_titulo[i]\n",
    "    frase_lista = frase.split()\n",
    "\n",
    "    probFraseDado0 = 1\n",
    "    probFraseDado1 = 1\n",
    "    probFraseDado2 = 1\n",
    "\n",
    "    for palavra in frase_lista:\n",
    "        if palavra in tabela_relativa_train_2:\n",
    "            probFraseDado2 = probFraseDado2 * tabela_relativa_train_2[palavra]\n",
    "      \n",
    "        if palavra in tabela_relativa_train_1:\n",
    "            probFraseDado1 = probFraseDado1 * tabela_relativa_train_1[palavra]\n",
    "\n",
    "        if palavra in tabela_relativa_train_0:\n",
    "            probFraseDado0 = probFraseDado0 * tabela_relativa_train_0[palavra]\n",
    "\n",
    "probFraseDado0\n",
    "probFraseDado1\n",
    "probFraseDado2"
   ]
  },
  {
   "cell_type": "markdown",
   "metadata": {},
   "source": [
    "___\n",
    "### Verificando a performance do Classificador\n",
    "\n",
    "Agora você deve testar o seu classificador com a base de Testes."
   ]
  },
  {
   "cell_type": "code",
   "execution_count": 10,
   "metadata": {},
   "outputs": [],
   "source": [
    "teste_titulo = test.Titulo\n",
    "test_0 = test.loc[test[\"Target\"] == 0,:]\n",
    "test_1 = test.loc[test[\"Target\"] == 1,:]\n",
    "test_2 = test.loc[test[\"Target\"] == 2,:]\n",
    "\n",
    "test_0_titulos = ''\n",
    "for palavra in test_0.Titulo:\n",
    "    test_0_titulos += palavra\n",
    "test_0_titulos = cleanup(test_0_titulos).split()\n",
    "\n",
    "test_1_titulos = ''\n",
    "for palavra in test_1.Titulo:\n",
    "    test_1_titulos += palavra\n",
    "test_1_titulos = cleanup(test_1_titulos).split()\n",
    "\n",
    "test_2_titulos = ''\n",
    "for palavra in test_2.Titulo:\n",
    "    test_2_titulos += palavra\n",
    "test_2_titulos = cleanup(test_2_titulos).split()\n",
    "\n",
    "serie_test_0_titulos = pd.Series(test_0_titulos)\n",
    "serie_test_1_titulos = pd.Series(test_1_titulos)\n",
    "serie_test_2_titulos = pd.Series(test_2_titulos)"
   ]
  },
  {
   "cell_type": "code",
   "execution_count": 11,
   "metadata": {},
   "outputs": [
    {
     "name": "stdout",
     "output_type": "stream",
     "text": [
      "criptomoedas    0.059513\n",
      "o               0.017133\n",
      "na              0.010821\n",
      "mais            0.010821\n",
      "criptomoeda     0.008115\n",
      "                  ...   \n",
      "prejuízo        0.000902\n",
      "suposta         0.000902\n",
      "criada          0.000902\n",
      "preso           0.000902\n",
      "outubro         0.000902\n",
      "Length: 749, dtype: float64 \n",
      "\n",
      "criptomoedas      0.069959\n",
      "na                0.013374\n",
      "Bitcoin           0.012346\n",
      "mercado           0.011317\n",
      "o                 0.011317\n",
      "                    ...   \n",
      "todas             0.001029\n",
      "semanaCoinbase    0.001029\n",
      "tiveram           0.001029\n",
      "jogoOito          0.001029\n",
      "dispararam        0.001029\n",
      "Length: 594, dtype: float64 \n",
      "\n",
      "criptomoedas    0.066071\n",
      "o               0.009821\n",
      "criptomoeda     0.008929\n",
      "mercado         0.008929\n",
      "US              0.008036\n",
      "                  ...   \n",
      "registram       0.000893\n",
      "prejuízo        0.000893\n",
      "mensal          0.000893\n",
      "31              0.000893\n",
      "Dubai           0.000893\n",
      "Length: 715, dtype: float64\n"
     ]
    }
   ],
   "source": [
    "tabela_absoluto_test_0 = serie_test_0_titulos.value_counts()\n",
    "tabela_absoluto_test_1 = serie_test_1_titulos.value_counts()\n",
    "tabela_absoluto_test_2 = serie_test_2_titulos.value_counts()\n",
    "\n",
    "tabela_relativa_test_0 = serie_test_0_titulos.value_counts(True)\n",
    "tabela_relativa_test_1 = serie_test_1_titulos.value_counts(True)\n",
    "tabela_relativa_test_2 = serie_test_2_titulos.value_counts(True)\n",
    "print(tabela_relativa_test_0,\"\\n\")\n",
    "print(tabela_relativa_test_1,\"\\n\")\n",
    "print(tabela_relativa_test_2)"
   ]
  },
  {
   "cell_type": "code",
   "execution_count": 12,
   "metadata": {},
   "outputs": [
    {
     "name": "stdout",
     "output_type": "stream",
     "text": [
      "0.3464542330521712 \n",
      " 0.3036551077788191 \n",
      " 0.3498906591690097\n",
      "1.0\n"
     ]
    }
   ],
   "source": [
    "portugues = test_0_titulos + test_1_titulos + test_2_titulos\n",
    "serie_portugues = pd.Series(portugues)\n",
    "tabela_portugues_relativa = serie_portugues.value_counts\n",
    "portugues_soma = tabela_absoluto_test_2.sum() + tabela_absoluto_test_1.sum() + tabela_absoluto_test_0.sum()\n",
    "prob0 = tabela_absoluto_test_0.sum()/portugues_soma\n",
    "prob1 = tabela_absoluto_test_1.sum()/portugues_soma\n",
    "prob2 = tabela_absoluto_test_2.sum()/portugues_soma\n",
    "print(prob0,\"\\n\",prob1, '\\n', prob2)\n",
    "print(prob0 + prob1 + prob2)"
   ]
  },
  {
   "cell_type": "code",
   "execution_count": 13,
   "metadata": {},
   "outputs": [
    {
     "name": "stdout",
     "output_type": "stream",
     "text": [
      "[0, 1, 0, 1, 0, 2, 0, 1, 1, 0, 1, 1, 0, 1, 0, 2, 0, 1, 1, 2, 1, 1, 1, 0, 0, 0, 1, 0, 2, 1, 1, 1, 0, 0, 0, 1, 1, 0, 0, 2, 0, 1, 1, 0, 0, 1, 1, 1, 1, 1, 1, 0, 0, 1, 0, 0, 1, 1, 0, 0, 1, 1, 1, 0, 1, 1, 1, 0, 2, 0, 0, 0, 2, 1, 1, 0, 0, 1, 1, 1, 1, 0, 1, 0, 0, 1, 2, 0, 2, 1, 0, 1, 1, 2, 1, 1, 1, 2, 1, 1, 1, 0, 0, 1, 0, 1, 0, 1, 0, 1, 1, 1, 1, 1, 1, 2, 0, 1, 1, 0, 1, 0, 0, 1, 0, 0, 1, 0, 2, 1, 2, 1, 0, 2, 1, 1, 2, 0, 1, 0, 1, 1, 0, 0, 1, 1, 1, 1, 2, 1, 1, 1, 0, 0, 1, 2, 0, 0, 1, 1, 1, 1, 0, 1, 1, 0, 1, 1, 0, 1, 1, 1, 0, 2, 1, 1, 2, 0, 2, 0, 1, 0, 1, 1, 2, 2, 0, 0, 2, 1, 0, 1, 1, 0, 0, 1, 0, 1, 0, 0, 1, 1, 0, 2, 0, 1, 0, 0, 0, 0, 0, 0, 1, 2, 1, 1, 1, 2, 1, 0, 0, 1, 1, 1, 1, 0, 0, 0, 1, 2, 0, 1, 1, 0, 1, 1, 1, 0, 1, 1, 0, 1, 1, 1, 1, 0, 0, 1, 1, 1, 0, 0, 1, 0, 1, 1, 1, 2, 1, 0, 1, 0, 1, 1, 0, 1, 1, 1, 1, 1, 0, 1, 1, 0, 1, 1, 0, 0, 1, 1, 2, 0, 1, 1, 0, 1, 1, 0, 2, 1, 1, 0, 1, 0, 0, 0, 1, 2, 0, 2, 1, 0, 1, 2, 0, 1, 0, 1, 1, 1, 2, 1, 1, 2, 2, 1, 0, 0, 0, 0, 1, 2, 1, 1, 1, 1, 2, 1, 0, 1, 0, 0, 1, 0, 0, 1, 1, 1, 0, 1, 1, 0, 2, 0, 1, 0, 1, 2, 0, 1, 1, 2, 0, 1, 1, 0, 0, 0, 0, 2]\n"
     ]
    },
    {
     "data": {
      "text/plain": [
       "0.2861111111111111"
      ]
     },
     "execution_count": 13,
     "metadata": {},
     "output_type": "execute_result"
    }
   ],
   "source": [
    "prob_frase = tabela_portugues_relativa\n",
    "\n",
    "classifautolista = []\n",
    "\n",
    "for i in range(len(test)):\n",
    "    frase = train_titulo[i]\n",
    "    frase_lista = frase.split()\n",
    "\n",
    "    probFraseDado0 = 1\n",
    "    probFraseDado1 = 1\n",
    "    probFraseDado2 = 1\n",
    "\n",
    "    for palavra in frase_lista:\n",
    "        if palavra in tabela_relativa_test_2:\n",
    "            probFraseDado2 = probFraseDado2 * tabela_relativa_test_2[palavra]\n",
    "      \n",
    "        if palavra in tabela_relativa_test_1:\n",
    "            #probFraseDado1 = (probFraseDado1) * ((tabela_relativa_test_1[palavra] * len(serie_portugues) + 1)/(tabela_relativa_test_1[palavra]*tabela_absoluto_test_1.sum()))\n",
    "            probFraseDado1 = probFraseDado1 * tabela_relativa_test_1[palavra]\n",
    "\n",
    "        if palavra in tabela_relativa_test_0:\n",
    "            #probFraseDado0 = (probFraseDado0) * ((tabela_relativa_test_0[palavra] * len(serie_portugues) + 1)/(tabela_relativa_test_0[palavra]*tabela_absoluto_test_0.sum()))\n",
    "            probFraseDado0 = probFraseDado0 * tabela_relativa_test_0[palavra]\n",
    "\n",
    "    prob0Frase = probFraseDado0*prob0\n",
    "    prob1Frase = probFraseDado1*prob1\n",
    "    prob2Frase = probFraseDado2*prob2\n",
    "\n",
    "    if prob0Frase > prob1Frase and prob0Frase > prob2Frase:\n",
    "        classifautolista.append(0)\n",
    "    elif prob1Frase > prob0Frase and prob1Frase > prob2Frase:\n",
    "        classifautolista.append(1)\n",
    "    elif prob2Frase > prob0Frase and prob2Frase > prob1Frase:\n",
    "        classifautolista.append(2)\n",
    "    \n",
    "\n",
    "print(classifautolista)\n",
    "i = 0\n",
    "acertos = 0\n",
    "\n",
    "''' Estávamos fazendo as outras medições do item 4\n",
    "quantos0manual = len(test.loc[test.Target == 0,:])\n",
    "quantos1manual = len(test.loc[test.Target == 1,:])\n",
    "quantos2manual = len(test.loc[test.Target == 2,:])'''\n",
    "\n",
    "for j in classifautolista:\n",
    "    if j == test.Target[i]:\n",
    "        acertos += 1\n",
    "    i += 1\n",
    "\n",
    "Acuracia = acertos/len(test)\n",
    "Acuracia"
   ]
  },
  {
   "cell_type": "markdown",
   "metadata": {},
   "source": [
    "___\n",
    "### Concluindo"
   ]
  },
  {
   "cell_type": "code",
   "execution_count": 14,
   "metadata": {},
   "outputs": [],
   "source": [
    "#Nosso classificador não possui uma acurácia alta, porém planejamos continuar implementando ele para gerar melhores resultados. Além, acreditamos que a lógica do nosso código é condizente com o objetivo do projeto e que ele conseguiu fazer os cálculos de probabilidade e definir qual classificação daria para cada notícia."
   ]
  },
  {
   "cell_type": "code",
   "execution_count": null,
   "metadata": {},
   "outputs": [],
   "source": []
  },
  {
   "cell_type": "code",
   "execution_count": null,
   "metadata": {},
   "outputs": [],
   "source": []
  },
  {
   "cell_type": "markdown",
   "metadata": {},
   "source": [
    "___\n",
    "### Qualidade do Classificador a partir de novas separações das notícias entre Treinamento e Teste\n",
    "\n",
    "Caso for fazer esse item do Projeto"
   ]
  },
  {
   "cell_type": "code",
   "execution_count": null,
   "metadata": {},
   "outputs": [],
   "source": []
  },
  {
   "cell_type": "code",
   "execution_count": null,
   "metadata": {},
   "outputs": [],
   "source": []
  },
  {
   "cell_type": "code",
   "execution_count": null,
   "metadata": {},
   "outputs": [],
   "source": []
  },
  {
   "attachments": {},
   "cell_type": "markdown",
   "metadata": {},
   "source": [
    "___\n",
    "## Aperfeiçoamento:\n",
    "\n",
    "Trabalhos que conseguirem pelo menos conceito B vão evoluir em conceito dependendo da quantidade de itens avançados:\n",
    "\n",
    "* IMPLEMENTOU outras limpezas e transformações que não afetem a qualidade da informação contida nas notícias. Ex: stemming, lemmatization, stopwords\n",
    "* CONSIDEROU mais de duas caterogias na variável Target e INCREMENTOU a quantidade de notícias, mantendo pelo menos 250 notícias por caterogia (OBRIGATÓRIO PARA TRIOS, sem contar como item avançado)\n",
    "* Para Target com duas categorias: CRIOU pelo menos quatro categorias intermediárias de relevância baseadas na probabilidade: ex.: muito relevante, relevante, neutro, irrelevante, muito irrelevante\n",
    "* EXPLICOU porquê não pode usar o próprio classificador para gerar mais amostras de treinamento\n",
    "* PROPÔS diferentes cenários para Naïve Bayes fora do contexto do projeto (pelo menos dois cenários, exceto aqueles já apresentados em sala pelos professores: por exemplo, filtro de spam)\n",
    "* SUGERIU e EXPLICOU melhorias reais com indicações concretas de como implementar (indicar como fazer e indicar material de pesquisa)\n",
    "* FEZ o item Qualidade do Classificador a partir de novas separações das Notícias entre Treinamento e Teste descrito no enunciado do projeto (OBRIGATÓRIO para conceitos A ou A+)"
   ]
  },
  {
   "cell_type": "markdown",
   "metadata": {},
   "source": [
    "___\n",
    "## Referências"
   ]
  },
  {
   "cell_type": "markdown",
   "metadata": {},
   "source": [
    "[Naive Bayes and Text Classification](https://arxiv.org/pdf/1410.5329.pdf)  **Mais completo**\n",
    "\n",
    "[A practical explanation of a Naive Bayes Classifier](https://monkeylearn.com/blog/practical-explanation-naive-bayes-classifier/) **Mais simples**"
   ]
  },
  {
   "cell_type": "code",
   "execution_count": null,
   "metadata": {},
   "outputs": [],
   "source": []
  }
 ],
 "metadata": {
  "kernelspec": {
   "display_name": "Python 3.9.7 ('base')",
   "language": "python",
   "name": "python3"
  },
  "language_info": {
   "codemirror_mode": {
    "name": "ipython",
    "version": 3
   },
   "file_extension": ".py",
   "mimetype": "text/x-python",
   "name": "python",
   "nbconvert_exporter": "python",
   "pygments_lexer": "ipython3",
   "version": "3.9.7"
  },
  "vscode": {
   "interpreter": {
    "hash": "dea373b318a782937d084fb3418b7a6bbcbc209e4a66bf528c92d844a0b5224e"
   }
  }
 },
 "nbformat": 4,
 "nbformat_minor": 4
}
